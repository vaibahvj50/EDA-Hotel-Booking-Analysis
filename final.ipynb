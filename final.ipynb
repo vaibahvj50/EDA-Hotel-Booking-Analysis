{
  "nbformat": 4,
  "nbformat_minor": 0,
  "metadata": {
    "colab": {
      "name": "final.ipynb",
      "provenance": [],
      "collapsed_sections": [],
      "mount_file_id": "1RwwFKT4huYHbVGROI592XCccgYaaqYFL",
      "authorship_tag": "ABX9TyPImUttXdyKrvGodBvxA+Ce",
      "include_colab_link": true
    },
    "kernelspec": {
      "name": "python3",
      "display_name": "Python 3"
    },
    "language_info": {
      "name": "python"
    }
  },
  "cells": [
    {
      "cell_type": "markdown",
      "metadata": {
        "id": "view-in-github",
        "colab_type": "text"
      },
      "source": [
        "<a href=\"https://colab.research.google.com/github/vaibahvj50/hotel-booking/blob/main/final.ipynb\" target=\"_parent\"><img src=\"https://colab.research.google.com/assets/colab-badge.svg\" alt=\"Open In Colab\"/></a>"
      ]
    },
    {
      "cell_type": "markdown",
      "metadata": {
        "id": "IyLJlqJV-CpT"
      },
      "source": [
        "# **Hotel Booking Analysis**\n",
        "  **Team** **Members:**   \n",
        "\n",
        "\n",
        "*   Nicky Ghai \n",
        "*   Vaibhav Jain\n",
        "*   Gagan Singh Parihar\n"
      ]
    },
    {
      "cell_type": "markdown",
      "metadata": {
        "id": "54pVDpGH-C4p"
      },
      "source": [
        "# Problem Statement\n",
        "\n",
        "## <b> Have you ever wondered when the best time of year to book a hotel room is? Or the optimal length of stay in order to get the best daily rate? What if you wanted to predict whether or not a hotel was likely to receive a disproportionately high number of special requests? This hotel booking dataset can help you explore those questions!\n",
        "\n",
        "## <b>This data set contains booking information for a city hotel and a resort hotel, and includes information such as when the booking was made, length of stay, the number of adults, children, and/or babies, and the number of available parking spaces, among other things. All personally identifying information has been removed from the data. </b>\n",
        "\n",
        "## <b> Explore and analyze the data to discover important factors that govern the bookings. </b>"
      ]
    },
    {
      "cell_type": "markdown",
      "metadata": {
        "id": "eNEm7HNs-Cw9"
      },
      "source": [
        "# Understanding the Hotel Booking\n",
        "\n",
        "To understand the Hotel Booking firstly, we have to know the some parameters like  the main few things I will usually consider include prices per night, distance of hotel from attractions and restaurants, availability of free breakfasts, scenery in hotel room, cleaniness of hotel room and of course, availability of free wifi. In this dataset, we ae able to know different types of bookings (i.e type of hotel, duration of stay, types of visitors, types of booking, etc)."
      ]
    },
    {
      "cell_type": "markdown",
      "metadata": {
        "id": "PSnpcVPS-0Pa"
      },
      "source": [
        "# **Index:**\n",
        "**1.**  **Importing all the important libraries.**\n",
        "\n",
        "**2.**  **Importing data from the local drive.**\n",
        "\n",
        "**3.**  **Basic Examination.**\n",
        "\n",
        "**4.**  **Data Cleansing Techniques To Get Rid Of Unwanted Data and Outliers.**\n",
        "\n",
        "**5.**  **Data Visualization**\n",
        "\n",
        "**6.**  **Conclusion.**"
      ]
    },
    {
      "cell_type": "markdown",
      "metadata": {
        "id": "8hU3ytdGdvWL"
      },
      "source": [
        "Importing all the important libraries\n",
        "\n",
        "\n"
      ]
    },
    {
      "cell_type": "code",
      "metadata": {
        "id": "9TDNsNmzeCon"
      },
      "source": [
        "import numpy as np\n",
        "import pandas as pd\n",
        "import matplotlib.pyplot as plt\n",
        "%matplotlib inline\n",
        "import seaborn as sns\n"
      ],
      "execution_count": 32,
      "outputs": []
    },
    {
      "cell_type": "markdown",
      "metadata": {
        "id": "Iy73mEZLev7v"
      },
      "source": [
        "**Importing data from the local drive**\n"
      ]
    },
    {
      "cell_type": "code",
      "metadata": {
        "id": "YxUBHlSuetpN"
      },
      "source": [
        "df = pd.read_csv('/content/drive/MyDrive/Copy of Hotel Bookings.csv')"
      ],
      "execution_count": 33,
      "outputs": []
    },
    {
      "cell_type": "markdown",
      "metadata": {
        "id": "s54-ocpkgK3V"
      },
      "source": [
        "**This is how our data looks like**"
      ]
    },
    {
      "cell_type": "code",
      "metadata": {
        "colab": {
          "base_uri": "https://localhost:8080/",
          "height": 549
        },
        "id": "PzJA3d0IgpcM",
        "outputId": "d83bc1ce-fff5-46c5-d370-4ec83f607a8f"
      },
      "source": [
        "df.head(10)"
      ],
      "execution_count": 34,
      "outputs": [
        {
          "output_type": "execute_result",
          "data": {
            "text/html": [
              "<div>\n",
              "<style scoped>\n",
              "    .dataframe tbody tr th:only-of-type {\n",
              "        vertical-align: middle;\n",
              "    }\n",
              "\n",
              "    .dataframe tbody tr th {\n",
              "        vertical-align: top;\n",
              "    }\n",
              "\n",
              "    .dataframe thead th {\n",
              "        text-align: right;\n",
              "    }\n",
              "</style>\n",
              "<table border=\"1\" class=\"dataframe\">\n",
              "  <thead>\n",
              "    <tr style=\"text-align: right;\">\n",
              "      <th></th>\n",
              "      <th>hotel</th>\n",
              "      <th>is_canceled</th>\n",
              "      <th>lead_time</th>\n",
              "      <th>arrival_date_year</th>\n",
              "      <th>arrival_date_month</th>\n",
              "      <th>arrival_date_week_number</th>\n",
              "      <th>arrival_date_day_of_month</th>\n",
              "      <th>stays_in_weekend_nights</th>\n",
              "      <th>stays_in_week_nights</th>\n",
              "      <th>adults</th>\n",
              "      <th>children</th>\n",
              "      <th>babies</th>\n",
              "      <th>meal</th>\n",
              "      <th>country</th>\n",
              "      <th>market_segment</th>\n",
              "      <th>distribution_channel</th>\n",
              "      <th>is_repeated_guest</th>\n",
              "      <th>previous_cancellations</th>\n",
              "      <th>previous_bookings_not_canceled</th>\n",
              "      <th>reserved_room_type</th>\n",
              "      <th>assigned_room_type</th>\n",
              "      <th>booking_changes</th>\n",
              "      <th>deposit_type</th>\n",
              "      <th>agent</th>\n",
              "      <th>company</th>\n",
              "      <th>days_in_waiting_list</th>\n",
              "      <th>customer_type</th>\n",
              "      <th>adr</th>\n",
              "      <th>required_car_parking_spaces</th>\n",
              "      <th>total_of_special_requests</th>\n",
              "      <th>reservation_status</th>\n",
              "      <th>reservation_status_date</th>\n",
              "    </tr>\n",
              "  </thead>\n",
              "  <tbody>\n",
              "    <tr>\n",
              "      <th>0</th>\n",
              "      <td>Resort Hotel</td>\n",
              "      <td>0</td>\n",
              "      <td>342</td>\n",
              "      <td>2015</td>\n",
              "      <td>July</td>\n",
              "      <td>27</td>\n",
              "      <td>1</td>\n",
              "      <td>0</td>\n",
              "      <td>0</td>\n",
              "      <td>2</td>\n",
              "      <td>0.0</td>\n",
              "      <td>0</td>\n",
              "      <td>BB</td>\n",
              "      <td>PRT</td>\n",
              "      <td>Direct</td>\n",
              "      <td>Direct</td>\n",
              "      <td>0</td>\n",
              "      <td>0</td>\n",
              "      <td>0</td>\n",
              "      <td>C</td>\n",
              "      <td>C</td>\n",
              "      <td>3</td>\n",
              "      <td>No Deposit</td>\n",
              "      <td>NaN</td>\n",
              "      <td>NaN</td>\n",
              "      <td>0</td>\n",
              "      <td>Transient</td>\n",
              "      <td>0.0</td>\n",
              "      <td>0</td>\n",
              "      <td>0</td>\n",
              "      <td>Check-Out</td>\n",
              "      <td>2015-07-01</td>\n",
              "    </tr>\n",
              "    <tr>\n",
              "      <th>1</th>\n",
              "      <td>Resort Hotel</td>\n",
              "      <td>0</td>\n",
              "      <td>737</td>\n",
              "      <td>2015</td>\n",
              "      <td>July</td>\n",
              "      <td>27</td>\n",
              "      <td>1</td>\n",
              "      <td>0</td>\n",
              "      <td>0</td>\n",
              "      <td>2</td>\n",
              "      <td>0.0</td>\n",
              "      <td>0</td>\n",
              "      <td>BB</td>\n",
              "      <td>PRT</td>\n",
              "      <td>Direct</td>\n",
              "      <td>Direct</td>\n",
              "      <td>0</td>\n",
              "      <td>0</td>\n",
              "      <td>0</td>\n",
              "      <td>C</td>\n",
              "      <td>C</td>\n",
              "      <td>4</td>\n",
              "      <td>No Deposit</td>\n",
              "      <td>NaN</td>\n",
              "      <td>NaN</td>\n",
              "      <td>0</td>\n",
              "      <td>Transient</td>\n",
              "      <td>0.0</td>\n",
              "      <td>0</td>\n",
              "      <td>0</td>\n",
              "      <td>Check-Out</td>\n",
              "      <td>2015-07-01</td>\n",
              "    </tr>\n",
              "    <tr>\n",
              "      <th>2</th>\n",
              "      <td>Resort Hotel</td>\n",
              "      <td>0</td>\n",
              "      <td>7</td>\n",
              "      <td>2015</td>\n",
              "      <td>July</td>\n",
              "      <td>27</td>\n",
              "      <td>1</td>\n",
              "      <td>0</td>\n",
              "      <td>1</td>\n",
              "      <td>1</td>\n",
              "      <td>0.0</td>\n",
              "      <td>0</td>\n",
              "      <td>BB</td>\n",
              "      <td>GBR</td>\n",
              "      <td>Direct</td>\n",
              "      <td>Direct</td>\n",
              "      <td>0</td>\n",
              "      <td>0</td>\n",
              "      <td>0</td>\n",
              "      <td>A</td>\n",
              "      <td>C</td>\n",
              "      <td>0</td>\n",
              "      <td>No Deposit</td>\n",
              "      <td>NaN</td>\n",
              "      <td>NaN</td>\n",
              "      <td>0</td>\n",
              "      <td>Transient</td>\n",
              "      <td>75.0</td>\n",
              "      <td>0</td>\n",
              "      <td>0</td>\n",
              "      <td>Check-Out</td>\n",
              "      <td>2015-07-02</td>\n",
              "    </tr>\n",
              "    <tr>\n",
              "      <th>3</th>\n",
              "      <td>Resort Hotel</td>\n",
              "      <td>0</td>\n",
              "      <td>13</td>\n",
              "      <td>2015</td>\n",
              "      <td>July</td>\n",
              "      <td>27</td>\n",
              "      <td>1</td>\n",
              "      <td>0</td>\n",
              "      <td>1</td>\n",
              "      <td>1</td>\n",
              "      <td>0.0</td>\n",
              "      <td>0</td>\n",
              "      <td>BB</td>\n",
              "      <td>GBR</td>\n",
              "      <td>Corporate</td>\n",
              "      <td>Corporate</td>\n",
              "      <td>0</td>\n",
              "      <td>0</td>\n",
              "      <td>0</td>\n",
              "      <td>A</td>\n",
              "      <td>A</td>\n",
              "      <td>0</td>\n",
              "      <td>No Deposit</td>\n",
              "      <td>304.0</td>\n",
              "      <td>NaN</td>\n",
              "      <td>0</td>\n",
              "      <td>Transient</td>\n",
              "      <td>75.0</td>\n",
              "      <td>0</td>\n",
              "      <td>0</td>\n",
              "      <td>Check-Out</td>\n",
              "      <td>2015-07-02</td>\n",
              "    </tr>\n",
              "    <tr>\n",
              "      <th>4</th>\n",
              "      <td>Resort Hotel</td>\n",
              "      <td>0</td>\n",
              "      <td>14</td>\n",
              "      <td>2015</td>\n",
              "      <td>July</td>\n",
              "      <td>27</td>\n",
              "      <td>1</td>\n",
              "      <td>0</td>\n",
              "      <td>2</td>\n",
              "      <td>2</td>\n",
              "      <td>0.0</td>\n",
              "      <td>0</td>\n",
              "      <td>BB</td>\n",
              "      <td>GBR</td>\n",
              "      <td>Online TA</td>\n",
              "      <td>TA/TO</td>\n",
              "      <td>0</td>\n",
              "      <td>0</td>\n",
              "      <td>0</td>\n",
              "      <td>A</td>\n",
              "      <td>A</td>\n",
              "      <td>0</td>\n",
              "      <td>No Deposit</td>\n",
              "      <td>240.0</td>\n",
              "      <td>NaN</td>\n",
              "      <td>0</td>\n",
              "      <td>Transient</td>\n",
              "      <td>98.0</td>\n",
              "      <td>0</td>\n",
              "      <td>1</td>\n",
              "      <td>Check-Out</td>\n",
              "      <td>2015-07-03</td>\n",
              "    </tr>\n",
              "    <tr>\n",
              "      <th>5</th>\n",
              "      <td>Resort Hotel</td>\n",
              "      <td>0</td>\n",
              "      <td>14</td>\n",
              "      <td>2015</td>\n",
              "      <td>July</td>\n",
              "      <td>27</td>\n",
              "      <td>1</td>\n",
              "      <td>0</td>\n",
              "      <td>2</td>\n",
              "      <td>2</td>\n",
              "      <td>0.0</td>\n",
              "      <td>0</td>\n",
              "      <td>BB</td>\n",
              "      <td>GBR</td>\n",
              "      <td>Online TA</td>\n",
              "      <td>TA/TO</td>\n",
              "      <td>0</td>\n",
              "      <td>0</td>\n",
              "      <td>0</td>\n",
              "      <td>A</td>\n",
              "      <td>A</td>\n",
              "      <td>0</td>\n",
              "      <td>No Deposit</td>\n",
              "      <td>240.0</td>\n",
              "      <td>NaN</td>\n",
              "      <td>0</td>\n",
              "      <td>Transient</td>\n",
              "      <td>98.0</td>\n",
              "      <td>0</td>\n",
              "      <td>1</td>\n",
              "      <td>Check-Out</td>\n",
              "      <td>2015-07-03</td>\n",
              "    </tr>\n",
              "    <tr>\n",
              "      <th>6</th>\n",
              "      <td>Resort Hotel</td>\n",
              "      <td>0</td>\n",
              "      <td>0</td>\n",
              "      <td>2015</td>\n",
              "      <td>July</td>\n",
              "      <td>27</td>\n",
              "      <td>1</td>\n",
              "      <td>0</td>\n",
              "      <td>2</td>\n",
              "      <td>2</td>\n",
              "      <td>0.0</td>\n",
              "      <td>0</td>\n",
              "      <td>BB</td>\n",
              "      <td>PRT</td>\n",
              "      <td>Direct</td>\n",
              "      <td>Direct</td>\n",
              "      <td>0</td>\n",
              "      <td>0</td>\n",
              "      <td>0</td>\n",
              "      <td>C</td>\n",
              "      <td>C</td>\n",
              "      <td>0</td>\n",
              "      <td>No Deposit</td>\n",
              "      <td>NaN</td>\n",
              "      <td>NaN</td>\n",
              "      <td>0</td>\n",
              "      <td>Transient</td>\n",
              "      <td>107.0</td>\n",
              "      <td>0</td>\n",
              "      <td>0</td>\n",
              "      <td>Check-Out</td>\n",
              "      <td>2015-07-03</td>\n",
              "    </tr>\n",
              "    <tr>\n",
              "      <th>7</th>\n",
              "      <td>Resort Hotel</td>\n",
              "      <td>0</td>\n",
              "      <td>9</td>\n",
              "      <td>2015</td>\n",
              "      <td>July</td>\n",
              "      <td>27</td>\n",
              "      <td>1</td>\n",
              "      <td>0</td>\n",
              "      <td>2</td>\n",
              "      <td>2</td>\n",
              "      <td>0.0</td>\n",
              "      <td>0</td>\n",
              "      <td>FB</td>\n",
              "      <td>PRT</td>\n",
              "      <td>Direct</td>\n",
              "      <td>Direct</td>\n",
              "      <td>0</td>\n",
              "      <td>0</td>\n",
              "      <td>0</td>\n",
              "      <td>C</td>\n",
              "      <td>C</td>\n",
              "      <td>0</td>\n",
              "      <td>No Deposit</td>\n",
              "      <td>303.0</td>\n",
              "      <td>NaN</td>\n",
              "      <td>0</td>\n",
              "      <td>Transient</td>\n",
              "      <td>103.0</td>\n",
              "      <td>0</td>\n",
              "      <td>1</td>\n",
              "      <td>Check-Out</td>\n",
              "      <td>2015-07-03</td>\n",
              "    </tr>\n",
              "    <tr>\n",
              "      <th>8</th>\n",
              "      <td>Resort Hotel</td>\n",
              "      <td>1</td>\n",
              "      <td>85</td>\n",
              "      <td>2015</td>\n",
              "      <td>July</td>\n",
              "      <td>27</td>\n",
              "      <td>1</td>\n",
              "      <td>0</td>\n",
              "      <td>3</td>\n",
              "      <td>2</td>\n",
              "      <td>0.0</td>\n",
              "      <td>0</td>\n",
              "      <td>BB</td>\n",
              "      <td>PRT</td>\n",
              "      <td>Online TA</td>\n",
              "      <td>TA/TO</td>\n",
              "      <td>0</td>\n",
              "      <td>0</td>\n",
              "      <td>0</td>\n",
              "      <td>A</td>\n",
              "      <td>A</td>\n",
              "      <td>0</td>\n",
              "      <td>No Deposit</td>\n",
              "      <td>240.0</td>\n",
              "      <td>NaN</td>\n",
              "      <td>0</td>\n",
              "      <td>Transient</td>\n",
              "      <td>82.0</td>\n",
              "      <td>0</td>\n",
              "      <td>1</td>\n",
              "      <td>Canceled</td>\n",
              "      <td>2015-05-06</td>\n",
              "    </tr>\n",
              "    <tr>\n",
              "      <th>9</th>\n",
              "      <td>Resort Hotel</td>\n",
              "      <td>1</td>\n",
              "      <td>75</td>\n",
              "      <td>2015</td>\n",
              "      <td>July</td>\n",
              "      <td>27</td>\n",
              "      <td>1</td>\n",
              "      <td>0</td>\n",
              "      <td>3</td>\n",
              "      <td>2</td>\n",
              "      <td>0.0</td>\n",
              "      <td>0</td>\n",
              "      <td>HB</td>\n",
              "      <td>PRT</td>\n",
              "      <td>Offline TA/TO</td>\n",
              "      <td>TA/TO</td>\n",
              "      <td>0</td>\n",
              "      <td>0</td>\n",
              "      <td>0</td>\n",
              "      <td>D</td>\n",
              "      <td>D</td>\n",
              "      <td>0</td>\n",
              "      <td>No Deposit</td>\n",
              "      <td>15.0</td>\n",
              "      <td>NaN</td>\n",
              "      <td>0</td>\n",
              "      <td>Transient</td>\n",
              "      <td>105.5</td>\n",
              "      <td>0</td>\n",
              "      <td>0</td>\n",
              "      <td>Canceled</td>\n",
              "      <td>2015-04-22</td>\n",
              "    </tr>\n",
              "  </tbody>\n",
              "</table>\n",
              "</div>"
            ],
            "text/plain": [
              "          hotel  is_canceled  ...  reservation_status  reservation_status_date\n",
              "0  Resort Hotel            0  ...           Check-Out               2015-07-01\n",
              "1  Resort Hotel            0  ...           Check-Out               2015-07-01\n",
              "2  Resort Hotel            0  ...           Check-Out               2015-07-02\n",
              "3  Resort Hotel            0  ...           Check-Out               2015-07-02\n",
              "4  Resort Hotel            0  ...           Check-Out               2015-07-03\n",
              "5  Resort Hotel            0  ...           Check-Out               2015-07-03\n",
              "6  Resort Hotel            0  ...           Check-Out               2015-07-03\n",
              "7  Resort Hotel            0  ...           Check-Out               2015-07-03\n",
              "8  Resort Hotel            1  ...            Canceled               2015-05-06\n",
              "9  Resort Hotel            1  ...            Canceled               2015-04-22\n",
              "\n",
              "[10 rows x 32 columns]"
            ]
          },
          "metadata": {
            "tags": []
          },
          "execution_count": 34
        }
      ]
    },
    {
      "cell_type": "code",
      "metadata": {
        "colab": {
          "base_uri": "https://localhost:8080/",
          "height": 549
        },
        "id": "WlDREc5ML_bK",
        "outputId": "89ef79fb-98da-4d3f-c37c-8a3c5310f046"
      },
      "source": [
        "df.tail(10)"
      ],
      "execution_count": 35,
      "outputs": [
        {
          "output_type": "execute_result",
          "data": {
            "text/html": [
              "<div>\n",
              "<style scoped>\n",
              "    .dataframe tbody tr th:only-of-type {\n",
              "        vertical-align: middle;\n",
              "    }\n",
              "\n",
              "    .dataframe tbody tr th {\n",
              "        vertical-align: top;\n",
              "    }\n",
              "\n",
              "    .dataframe thead th {\n",
              "        text-align: right;\n",
              "    }\n",
              "</style>\n",
              "<table border=\"1\" class=\"dataframe\">\n",
              "  <thead>\n",
              "    <tr style=\"text-align: right;\">\n",
              "      <th></th>\n",
              "      <th>hotel</th>\n",
              "      <th>is_canceled</th>\n",
              "      <th>lead_time</th>\n",
              "      <th>arrival_date_year</th>\n",
              "      <th>arrival_date_month</th>\n",
              "      <th>arrival_date_week_number</th>\n",
              "      <th>arrival_date_day_of_month</th>\n",
              "      <th>stays_in_weekend_nights</th>\n",
              "      <th>stays_in_week_nights</th>\n",
              "      <th>adults</th>\n",
              "      <th>children</th>\n",
              "      <th>babies</th>\n",
              "      <th>meal</th>\n",
              "      <th>country</th>\n",
              "      <th>market_segment</th>\n",
              "      <th>distribution_channel</th>\n",
              "      <th>is_repeated_guest</th>\n",
              "      <th>previous_cancellations</th>\n",
              "      <th>previous_bookings_not_canceled</th>\n",
              "      <th>reserved_room_type</th>\n",
              "      <th>assigned_room_type</th>\n",
              "      <th>booking_changes</th>\n",
              "      <th>deposit_type</th>\n",
              "      <th>agent</th>\n",
              "      <th>company</th>\n",
              "      <th>days_in_waiting_list</th>\n",
              "      <th>customer_type</th>\n",
              "      <th>adr</th>\n",
              "      <th>required_car_parking_spaces</th>\n",
              "      <th>total_of_special_requests</th>\n",
              "      <th>reservation_status</th>\n",
              "      <th>reservation_status_date</th>\n",
              "    </tr>\n",
              "  </thead>\n",
              "  <tbody>\n",
              "    <tr>\n",
              "      <th>119380</th>\n",
              "      <td>City Hotel</td>\n",
              "      <td>0</td>\n",
              "      <td>44</td>\n",
              "      <td>2017</td>\n",
              "      <td>August</td>\n",
              "      <td>35</td>\n",
              "      <td>31</td>\n",
              "      <td>1</td>\n",
              "      <td>3</td>\n",
              "      <td>2</td>\n",
              "      <td>0.0</td>\n",
              "      <td>0</td>\n",
              "      <td>SC</td>\n",
              "      <td>DEU</td>\n",
              "      <td>Online TA</td>\n",
              "      <td>TA/TO</td>\n",
              "      <td>0</td>\n",
              "      <td>0</td>\n",
              "      <td>0</td>\n",
              "      <td>A</td>\n",
              "      <td>A</td>\n",
              "      <td>0</td>\n",
              "      <td>No Deposit</td>\n",
              "      <td>9.0</td>\n",
              "      <td>NaN</td>\n",
              "      <td>0</td>\n",
              "      <td>Transient</td>\n",
              "      <td>140.75</td>\n",
              "      <td>0</td>\n",
              "      <td>1</td>\n",
              "      <td>Check-Out</td>\n",
              "      <td>2017-09-04</td>\n",
              "    </tr>\n",
              "    <tr>\n",
              "      <th>119381</th>\n",
              "      <td>City Hotel</td>\n",
              "      <td>0</td>\n",
              "      <td>188</td>\n",
              "      <td>2017</td>\n",
              "      <td>August</td>\n",
              "      <td>35</td>\n",
              "      <td>31</td>\n",
              "      <td>2</td>\n",
              "      <td>3</td>\n",
              "      <td>2</td>\n",
              "      <td>0.0</td>\n",
              "      <td>0</td>\n",
              "      <td>BB</td>\n",
              "      <td>DEU</td>\n",
              "      <td>Direct</td>\n",
              "      <td>Direct</td>\n",
              "      <td>0</td>\n",
              "      <td>0</td>\n",
              "      <td>0</td>\n",
              "      <td>A</td>\n",
              "      <td>A</td>\n",
              "      <td>0</td>\n",
              "      <td>No Deposit</td>\n",
              "      <td>14.0</td>\n",
              "      <td>NaN</td>\n",
              "      <td>0</td>\n",
              "      <td>Transient</td>\n",
              "      <td>99.00</td>\n",
              "      <td>0</td>\n",
              "      <td>0</td>\n",
              "      <td>Check-Out</td>\n",
              "      <td>2017-09-05</td>\n",
              "    </tr>\n",
              "    <tr>\n",
              "      <th>119382</th>\n",
              "      <td>City Hotel</td>\n",
              "      <td>0</td>\n",
              "      <td>135</td>\n",
              "      <td>2017</td>\n",
              "      <td>August</td>\n",
              "      <td>35</td>\n",
              "      <td>30</td>\n",
              "      <td>2</td>\n",
              "      <td>4</td>\n",
              "      <td>3</td>\n",
              "      <td>0.0</td>\n",
              "      <td>0</td>\n",
              "      <td>BB</td>\n",
              "      <td>JPN</td>\n",
              "      <td>Online TA</td>\n",
              "      <td>TA/TO</td>\n",
              "      <td>0</td>\n",
              "      <td>0</td>\n",
              "      <td>0</td>\n",
              "      <td>G</td>\n",
              "      <td>G</td>\n",
              "      <td>0</td>\n",
              "      <td>No Deposit</td>\n",
              "      <td>7.0</td>\n",
              "      <td>NaN</td>\n",
              "      <td>0</td>\n",
              "      <td>Transient</td>\n",
              "      <td>209.00</td>\n",
              "      <td>0</td>\n",
              "      <td>0</td>\n",
              "      <td>Check-Out</td>\n",
              "      <td>2017-09-05</td>\n",
              "    </tr>\n",
              "    <tr>\n",
              "      <th>119383</th>\n",
              "      <td>City Hotel</td>\n",
              "      <td>0</td>\n",
              "      <td>164</td>\n",
              "      <td>2017</td>\n",
              "      <td>August</td>\n",
              "      <td>35</td>\n",
              "      <td>31</td>\n",
              "      <td>2</td>\n",
              "      <td>4</td>\n",
              "      <td>2</td>\n",
              "      <td>0.0</td>\n",
              "      <td>0</td>\n",
              "      <td>BB</td>\n",
              "      <td>DEU</td>\n",
              "      <td>Offline TA/TO</td>\n",
              "      <td>TA/TO</td>\n",
              "      <td>0</td>\n",
              "      <td>0</td>\n",
              "      <td>0</td>\n",
              "      <td>A</td>\n",
              "      <td>A</td>\n",
              "      <td>0</td>\n",
              "      <td>No Deposit</td>\n",
              "      <td>42.0</td>\n",
              "      <td>NaN</td>\n",
              "      <td>0</td>\n",
              "      <td>Transient</td>\n",
              "      <td>87.60</td>\n",
              "      <td>0</td>\n",
              "      <td>0</td>\n",
              "      <td>Check-Out</td>\n",
              "      <td>2017-09-06</td>\n",
              "    </tr>\n",
              "    <tr>\n",
              "      <th>119384</th>\n",
              "      <td>City Hotel</td>\n",
              "      <td>0</td>\n",
              "      <td>21</td>\n",
              "      <td>2017</td>\n",
              "      <td>August</td>\n",
              "      <td>35</td>\n",
              "      <td>30</td>\n",
              "      <td>2</td>\n",
              "      <td>5</td>\n",
              "      <td>2</td>\n",
              "      <td>0.0</td>\n",
              "      <td>0</td>\n",
              "      <td>BB</td>\n",
              "      <td>BEL</td>\n",
              "      <td>Offline TA/TO</td>\n",
              "      <td>TA/TO</td>\n",
              "      <td>0</td>\n",
              "      <td>0</td>\n",
              "      <td>0</td>\n",
              "      <td>A</td>\n",
              "      <td>A</td>\n",
              "      <td>0</td>\n",
              "      <td>No Deposit</td>\n",
              "      <td>394.0</td>\n",
              "      <td>NaN</td>\n",
              "      <td>0</td>\n",
              "      <td>Transient</td>\n",
              "      <td>96.14</td>\n",
              "      <td>0</td>\n",
              "      <td>2</td>\n",
              "      <td>Check-Out</td>\n",
              "      <td>2017-09-06</td>\n",
              "    </tr>\n",
              "    <tr>\n",
              "      <th>119385</th>\n",
              "      <td>City Hotel</td>\n",
              "      <td>0</td>\n",
              "      <td>23</td>\n",
              "      <td>2017</td>\n",
              "      <td>August</td>\n",
              "      <td>35</td>\n",
              "      <td>30</td>\n",
              "      <td>2</td>\n",
              "      <td>5</td>\n",
              "      <td>2</td>\n",
              "      <td>0.0</td>\n",
              "      <td>0</td>\n",
              "      <td>BB</td>\n",
              "      <td>BEL</td>\n",
              "      <td>Offline TA/TO</td>\n",
              "      <td>TA/TO</td>\n",
              "      <td>0</td>\n",
              "      <td>0</td>\n",
              "      <td>0</td>\n",
              "      <td>A</td>\n",
              "      <td>A</td>\n",
              "      <td>0</td>\n",
              "      <td>No Deposit</td>\n",
              "      <td>394.0</td>\n",
              "      <td>NaN</td>\n",
              "      <td>0</td>\n",
              "      <td>Transient</td>\n",
              "      <td>96.14</td>\n",
              "      <td>0</td>\n",
              "      <td>0</td>\n",
              "      <td>Check-Out</td>\n",
              "      <td>2017-09-06</td>\n",
              "    </tr>\n",
              "    <tr>\n",
              "      <th>119386</th>\n",
              "      <td>City Hotel</td>\n",
              "      <td>0</td>\n",
              "      <td>102</td>\n",
              "      <td>2017</td>\n",
              "      <td>August</td>\n",
              "      <td>35</td>\n",
              "      <td>31</td>\n",
              "      <td>2</td>\n",
              "      <td>5</td>\n",
              "      <td>3</td>\n",
              "      <td>0.0</td>\n",
              "      <td>0</td>\n",
              "      <td>BB</td>\n",
              "      <td>FRA</td>\n",
              "      <td>Online TA</td>\n",
              "      <td>TA/TO</td>\n",
              "      <td>0</td>\n",
              "      <td>0</td>\n",
              "      <td>0</td>\n",
              "      <td>E</td>\n",
              "      <td>E</td>\n",
              "      <td>0</td>\n",
              "      <td>No Deposit</td>\n",
              "      <td>9.0</td>\n",
              "      <td>NaN</td>\n",
              "      <td>0</td>\n",
              "      <td>Transient</td>\n",
              "      <td>225.43</td>\n",
              "      <td>0</td>\n",
              "      <td>2</td>\n",
              "      <td>Check-Out</td>\n",
              "      <td>2017-09-07</td>\n",
              "    </tr>\n",
              "    <tr>\n",
              "      <th>119387</th>\n",
              "      <td>City Hotel</td>\n",
              "      <td>0</td>\n",
              "      <td>34</td>\n",
              "      <td>2017</td>\n",
              "      <td>August</td>\n",
              "      <td>35</td>\n",
              "      <td>31</td>\n",
              "      <td>2</td>\n",
              "      <td>5</td>\n",
              "      <td>2</td>\n",
              "      <td>0.0</td>\n",
              "      <td>0</td>\n",
              "      <td>BB</td>\n",
              "      <td>DEU</td>\n",
              "      <td>Online TA</td>\n",
              "      <td>TA/TO</td>\n",
              "      <td>0</td>\n",
              "      <td>0</td>\n",
              "      <td>0</td>\n",
              "      <td>D</td>\n",
              "      <td>D</td>\n",
              "      <td>0</td>\n",
              "      <td>No Deposit</td>\n",
              "      <td>9.0</td>\n",
              "      <td>NaN</td>\n",
              "      <td>0</td>\n",
              "      <td>Transient</td>\n",
              "      <td>157.71</td>\n",
              "      <td>0</td>\n",
              "      <td>4</td>\n",
              "      <td>Check-Out</td>\n",
              "      <td>2017-09-07</td>\n",
              "    </tr>\n",
              "    <tr>\n",
              "      <th>119388</th>\n",
              "      <td>City Hotel</td>\n",
              "      <td>0</td>\n",
              "      <td>109</td>\n",
              "      <td>2017</td>\n",
              "      <td>August</td>\n",
              "      <td>35</td>\n",
              "      <td>31</td>\n",
              "      <td>2</td>\n",
              "      <td>5</td>\n",
              "      <td>2</td>\n",
              "      <td>0.0</td>\n",
              "      <td>0</td>\n",
              "      <td>BB</td>\n",
              "      <td>GBR</td>\n",
              "      <td>Online TA</td>\n",
              "      <td>TA/TO</td>\n",
              "      <td>0</td>\n",
              "      <td>0</td>\n",
              "      <td>0</td>\n",
              "      <td>A</td>\n",
              "      <td>A</td>\n",
              "      <td>0</td>\n",
              "      <td>No Deposit</td>\n",
              "      <td>89.0</td>\n",
              "      <td>NaN</td>\n",
              "      <td>0</td>\n",
              "      <td>Transient</td>\n",
              "      <td>104.40</td>\n",
              "      <td>0</td>\n",
              "      <td>0</td>\n",
              "      <td>Check-Out</td>\n",
              "      <td>2017-09-07</td>\n",
              "    </tr>\n",
              "    <tr>\n",
              "      <th>119389</th>\n",
              "      <td>City Hotel</td>\n",
              "      <td>0</td>\n",
              "      <td>205</td>\n",
              "      <td>2017</td>\n",
              "      <td>August</td>\n",
              "      <td>35</td>\n",
              "      <td>29</td>\n",
              "      <td>2</td>\n",
              "      <td>7</td>\n",
              "      <td>2</td>\n",
              "      <td>0.0</td>\n",
              "      <td>0</td>\n",
              "      <td>HB</td>\n",
              "      <td>DEU</td>\n",
              "      <td>Online TA</td>\n",
              "      <td>TA/TO</td>\n",
              "      <td>0</td>\n",
              "      <td>0</td>\n",
              "      <td>0</td>\n",
              "      <td>A</td>\n",
              "      <td>A</td>\n",
              "      <td>0</td>\n",
              "      <td>No Deposit</td>\n",
              "      <td>9.0</td>\n",
              "      <td>NaN</td>\n",
              "      <td>0</td>\n",
              "      <td>Transient</td>\n",
              "      <td>151.20</td>\n",
              "      <td>0</td>\n",
              "      <td>2</td>\n",
              "      <td>Check-Out</td>\n",
              "      <td>2017-09-07</td>\n",
              "    </tr>\n",
              "  </tbody>\n",
              "</table>\n",
              "</div>"
            ],
            "text/plain": [
              "             hotel  is_canceled  ...  reservation_status  reservation_status_date\n",
              "119380  City Hotel            0  ...           Check-Out               2017-09-04\n",
              "119381  City Hotel            0  ...           Check-Out               2017-09-05\n",
              "119382  City Hotel            0  ...           Check-Out               2017-09-05\n",
              "119383  City Hotel            0  ...           Check-Out               2017-09-06\n",
              "119384  City Hotel            0  ...           Check-Out               2017-09-06\n",
              "119385  City Hotel            0  ...           Check-Out               2017-09-06\n",
              "119386  City Hotel            0  ...           Check-Out               2017-09-07\n",
              "119387  City Hotel            0  ...           Check-Out               2017-09-07\n",
              "119388  City Hotel            0  ...           Check-Out               2017-09-07\n",
              "119389  City Hotel            0  ...           Check-Out               2017-09-07\n",
              "\n",
              "[10 rows x 32 columns]"
            ]
          },
          "metadata": {
            "tags": []
          },
          "execution_count": 35
        }
      ]
    },
    {
      "cell_type": "markdown",
      "metadata": {
        "id": "cDhfFMcdfeal"
      },
      "source": [
        "**Lets check out the elements in the data by using shape**"
      ]
    },
    {
      "cell_type": "code",
      "metadata": {
        "colab": {
          "base_uri": "https://localhost:8080/"
        },
        "id": "LSgnaWqEfBoz",
        "outputId": "9a97105f-20bc-47f2-a1e3-f6b9f0c9311c"
      },
      "source": [
        "df.shape"
      ],
      "execution_count": 36,
      "outputs": [
        {
          "output_type": "execute_result",
          "data": {
            "text/plain": [
              "(119390, 32)"
            ]
          },
          "metadata": {
            "tags": []
          },
          "execution_count": 36
        }
      ]
    },
    {
      "cell_type": "markdown",
      "metadata": {
        "id": "-wotLxvRg6vf"
      },
      "source": [
        "**To get the insight about the data, Let's check out the parameters mentioned in the columns**"
      ]
    },
    {
      "cell_type": "code",
      "metadata": {
        "colab": {
          "base_uri": "https://localhost:8080/"
        },
        "id": "VnHSMeegfb6a",
        "outputId": "4f1c18ca-7ce9-41ea-dd48-bdef00215e71"
      },
      "source": [
        "list(df.columns)"
      ],
      "execution_count": 37,
      "outputs": [
        {
          "output_type": "execute_result",
          "data": {
            "text/plain": [
              "['hotel',\n",
              " 'is_canceled',\n",
              " 'lead_time',\n",
              " 'arrival_date_year',\n",
              " 'arrival_date_month',\n",
              " 'arrival_date_week_number',\n",
              " 'arrival_date_day_of_month',\n",
              " 'stays_in_weekend_nights',\n",
              " 'stays_in_week_nights',\n",
              " 'adults',\n",
              " 'children',\n",
              " 'babies',\n",
              " 'meal',\n",
              " 'country',\n",
              " 'market_segment',\n",
              " 'distribution_channel',\n",
              " 'is_repeated_guest',\n",
              " 'previous_cancellations',\n",
              " 'previous_bookings_not_canceled',\n",
              " 'reserved_room_type',\n",
              " 'assigned_room_type',\n",
              " 'booking_changes',\n",
              " 'deposit_type',\n",
              " 'agent',\n",
              " 'company',\n",
              " 'days_in_waiting_list',\n",
              " 'customer_type',\n",
              " 'adr',\n",
              " 'required_car_parking_spaces',\n",
              " 'total_of_special_requests',\n",
              " 'reservation_status',\n",
              " 'reservation_status_date']"
            ]
          },
          "metadata": {
            "tags": []
          },
          "execution_count": 37
        }
      ]
    },
    {
      "cell_type": "markdown",
      "metadata": {
        "id": "84ga5hh7kvpy"
      },
      "source": [
        "**Also let's check out the data type of each column**"
      ]
    },
    {
      "cell_type": "code",
      "metadata": {
        "colab": {
          "base_uri": "https://localhost:8080/"
        },
        "id": "ukKgAip1k6bx",
        "outputId": "9c17902c-570e-4cfe-d418-79e3ac948a02"
      },
      "source": [
        "df.dtypes"
      ],
      "execution_count": 38,
      "outputs": [
        {
          "output_type": "execute_result",
          "data": {
            "text/plain": [
              "hotel                              object\n",
              "is_canceled                         int64\n",
              "lead_time                           int64\n",
              "arrival_date_year                   int64\n",
              "arrival_date_month                 object\n",
              "arrival_date_week_number            int64\n",
              "arrival_date_day_of_month           int64\n",
              "stays_in_weekend_nights             int64\n",
              "stays_in_week_nights                int64\n",
              "adults                              int64\n",
              "children                          float64\n",
              "babies                              int64\n",
              "meal                               object\n",
              "country                            object\n",
              "market_segment                     object\n",
              "distribution_channel               object\n",
              "is_repeated_guest                   int64\n",
              "previous_cancellations              int64\n",
              "previous_bookings_not_canceled      int64\n",
              "reserved_room_type                 object\n",
              "assigned_room_type                 object\n",
              "booking_changes                     int64\n",
              "deposit_type                       object\n",
              "agent                             float64\n",
              "company                           float64\n",
              "days_in_waiting_list                int64\n",
              "customer_type                      object\n",
              "adr                               float64\n",
              "required_car_parking_spaces         int64\n",
              "total_of_special_requests           int64\n",
              "reservation_status                 object\n",
              "reservation_status_date            object\n",
              "dtype: object"
            ]
          },
          "metadata": {
            "tags": []
          },
          "execution_count": 38
        }
      ]
    },
    {
      "cell_type": "markdown",
      "metadata": {
        "id": "QtvBvTvtiMFC"
      },
      "source": [
        "**Broadly classifying the type of hotels we have in our data by the ploting a histogram**"
      ]
    },
    {
      "cell_type": "code",
      "metadata": {
        "colab": {
          "base_uri": "https://localhost:8080/",
          "height": 497
        },
        "id": "FF4sd_dahd0_",
        "outputId": "3a874193-76b0-4503-b861-b1910484bb08"
      },
      "source": [
        "fig, ax = plt.subplots(figsize=(14,8))\n",
        "ax.hist(df['hotel'])\n",
        "ax.set_xlabel('Type of Hotel')\n",
        "ax.set_ylabel('Number')\n",
        "plt.show()"
      ],
      "execution_count": 39,
      "outputs": [
        {
          "output_type": "display_data",
          "data": {
            "image/png": "[encoded data removed]",
            "text/plain": [
              "<Figure size 1008x576 with 1 Axes>"
            ]
          },
          "metadata": {
            "tags": [],
            "needs_background": "light"
          }
        }
      ]
    },
    {
      "cell_type": "markdown",
      "metadata": {
        "id": "hfAwxSG4li5I"
      },
      "source": [
        "# Data cleaning"
      ]
    },
    {
      "cell_type": "markdown",
      "metadata": {
        "id": "npnguzZPybxM"
      },
      "source": [
        "Check for the duplicate data"
      ]
    },
    {
      "cell_type": "code",
      "metadata": {
        "colab": {
          "base_uri": "https://localhost:8080/"
        },
        "id": "r7A5B_DDyoOs",
        "outputId": "48b87342-855a-4b52-bed2-3e96c12df926"
      },
      "source": [
        "duplicate_rows_df = df[df.duplicated()].shape\n",
        "\n",
        "print(f\"the no. of duplicate rows :\" , duplicate_rows_df)"
      ],
      "execution_count": 40,
      "outputs": [
        {
          "output_type": "stream",
          "text": [
            "the no. of duplicate rows : (31994, 32)\n"
          ],
          "name": "stdout"
        }
      ]
    },
    {
      "cell_type": "markdown",
      "metadata": {
        "id": "w7Yp5eKH5JrU"
      },
      "source": [
        "Lets drop the duplicate values"
      ]
    },
    {
      "cell_type": "code",
      "metadata": {
        "colab": {
          "base_uri": "https://localhost:8080/"
        },
        "id": "GQXYDpFcyc_S",
        "outputId": "1a3eef03-fb9a-4af8-d2d3-6cb94759905c"
      },
      "source": [
        "df=df.drop_duplicates()\n",
        "df.shape"
      ],
      "execution_count": 41,
      "outputs": [
        {
          "output_type": "execute_result",
          "data": {
            "text/plain": [
              "(87396, 32)"
            ]
          },
          "metadata": {
            "tags": []
          },
          "execution_count": 41
        }
      ]
    },
    {
      "cell_type": "code",
      "metadata": {
        "colab": {
          "base_uri": "https://localhost:8080/"
        },
        "id": "axxUvDZvmgMt",
        "outputId": "ff27b4cf-d22d-41e5-d1df-67f315c95eb2"
      },
      "source": [
        "df.isnull().sum()"
      ],
      "execution_count": 42,
      "outputs": [
        {
          "output_type": "execute_result",
          "data": {
            "text/plain": [
              "hotel                                 0\n",
              "is_canceled                           0\n",
              "lead_time                             0\n",
              "arrival_date_year                     0\n",
              "arrival_date_month                    0\n",
              "arrival_date_week_number              0\n",
              "arrival_date_day_of_month             0\n",
              "stays_in_weekend_nights               0\n",
              "stays_in_week_nights                  0\n",
              "adults                                0\n",
              "children                              4\n",
              "babies                                0\n",
              "meal                                  0\n",
              "country                             452\n",
              "market_segment                        0\n",
              "distribution_channel                  0\n",
              "is_repeated_guest                     0\n",
              "previous_cancellations                0\n",
              "previous_bookings_not_canceled        0\n",
              "reserved_room_type                    0\n",
              "assigned_room_type                    0\n",
              "booking_changes                       0\n",
              "deposit_type                          0\n",
              "agent                             12193\n",
              "company                           82137\n",
              "days_in_waiting_list                  0\n",
              "customer_type                         0\n",
              "adr                                   0\n",
              "required_car_parking_spaces           0\n",
              "total_of_special_requests             0\n",
              "reservation_status                    0\n",
              "reservation_status_date               0\n",
              "dtype: int64"
            ]
          },
          "metadata": {
            "tags": []
          },
          "execution_count": 42
        }
      ]
    },
    {
      "cell_type": "markdown",
      "metadata": {
        "id": "TMQ4rf_lA92w"
      },
      "source": [
        "Since the column named **Company and Agents** have lots of null values , we will drop these columns and "
      ]
    },
    {
      "cell_type": "code",
      "metadata": {
        "id": "6XxEsrzX_5Hc"
      },
      "source": [
        "df = df.drop(columns=['company','agent'])"
      ],
      "execution_count": 43,
      "outputs": []
    },
    {
      "cell_type": "code",
      "metadata": {
        "colab": {
          "base_uri": "https://localhost:8080/"
        },
        "id": "rWjniOCB7ymV",
        "outputId": "0f4ccaef-3a56-4c8a-f7fb-b0a153436fd8"
      },
      "source": [
        "df.isnull().sum()"
      ],
      "execution_count": 44,
      "outputs": [
        {
          "output_type": "execute_result",
          "data": {
            "text/plain": [
              "hotel                               0\n",
              "is_canceled                         0\n",
              "lead_time                           0\n",
              "arrival_date_year                   0\n",
              "arrival_date_month                  0\n",
              "arrival_date_week_number            0\n",
              "arrival_date_day_of_month           0\n",
              "stays_in_weekend_nights             0\n",
              "stays_in_week_nights                0\n",
              "adults                              0\n",
              "children                            4\n",
              "babies                              0\n",
              "meal                                0\n",
              "country                           452\n",
              "market_segment                      0\n",
              "distribution_channel                0\n",
              "is_repeated_guest                   0\n",
              "previous_cancellations              0\n",
              "previous_bookings_not_canceled      0\n",
              "reserved_room_type                  0\n",
              "assigned_room_type                  0\n",
              "booking_changes                     0\n",
              "deposit_type                        0\n",
              "days_in_waiting_list                0\n",
              "customer_type                       0\n",
              "adr                                 0\n",
              "required_car_parking_spaces         0\n",
              "total_of_special_requests           0\n",
              "reservation_status                  0\n",
              "reservation_status_date             0\n",
              "dtype: int64"
            ]
          },
          "metadata": {
            "tags": []
          },
          "execution_count": 44
        }
      ]
    },
    {
      "cell_type": "markdown",
      "metadata": {
        "id": "oy_mGGsoB_m4"
      },
      "source": [
        "Since we only have children and country data with null values , so drop the unavailable data"
      ]
    },
    {
      "cell_type": "code",
      "metadata": {
        "colab": {
          "base_uri": "https://localhost:8080/"
        },
        "id": "5fuhh2WkB_Zz",
        "outputId": "d4e6804b-d29b-408e-b7e2-a8e3b7e501a4"
      },
      "source": [
        "df=df.dropna()\n",
        "\n",
        "#To insure we don't have any null values\n",
        "df.isnull().sum()"
      ],
      "execution_count": 45,
      "outputs": [
        {
          "output_type": "execute_result",
          "data": {
            "text/plain": [
              "hotel                             0\n",
              "is_canceled                       0\n",
              "lead_time                         0\n",
              "arrival_date_year                 0\n",
              "arrival_date_month                0\n",
              "arrival_date_week_number          0\n",
              "arrival_date_day_of_month         0\n",
              "stays_in_weekend_nights           0\n",
              "stays_in_week_nights              0\n",
              "adults                            0\n",
              "children                          0\n",
              "babies                            0\n",
              "meal                              0\n",
              "country                           0\n",
              "market_segment                    0\n",
              "distribution_channel              0\n",
              "is_repeated_guest                 0\n",
              "previous_cancellations            0\n",
              "previous_bookings_not_canceled    0\n",
              "reserved_room_type                0\n",
              "assigned_room_type                0\n",
              "booking_changes                   0\n",
              "deposit_type                      0\n",
              "days_in_waiting_list              0\n",
              "customer_type                     0\n",
              "adr                               0\n",
              "required_car_parking_spaces       0\n",
              "total_of_special_requests         0\n",
              "reservation_status                0\n",
              "reservation_status_date           0\n",
              "dtype: int64"
            ]
          },
          "metadata": {
            "tags": []
          },
          "execution_count": 45
        }
      ]
    },
    {
      "cell_type": "code",
      "metadata": {
        "colab": {
          "base_uri": "https://localhost:8080/"
        },
        "id": "13PzxY-ZDso1",
        "outputId": "bfe75811-3a94-4946-a494-e4a17c9a038b"
      },
      "source": [
        "df.count()"
      ],
      "execution_count": 46,
      "outputs": [
        {
          "output_type": "execute_result",
          "data": {
            "text/plain": [
              "hotel                             86940\n",
              "is_canceled                       86940\n",
              "lead_time                         86940\n",
              "arrival_date_year                 86940\n",
              "arrival_date_month                86940\n",
              "arrival_date_week_number          86940\n",
              "arrival_date_day_of_month         86940\n",
              "stays_in_weekend_nights           86940\n",
              "stays_in_week_nights              86940\n",
              "adults                            86940\n",
              "children                          86940\n",
              "babies                            86940\n",
              "meal                              86940\n",
              "country                           86940\n",
              "market_segment                    86940\n",
              "distribution_channel              86940\n",
              "is_repeated_guest                 86940\n",
              "previous_cancellations            86940\n",
              "previous_bookings_not_canceled    86940\n",
              "reserved_room_type                86940\n",
              "assigned_room_type                86940\n",
              "booking_changes                   86940\n",
              "deposit_type                      86940\n",
              "days_in_waiting_list              86940\n",
              "customer_type                     86940\n",
              "adr                               86940\n",
              "required_car_parking_spaces       86940\n",
              "total_of_special_requests         86940\n",
              "reservation_status                86940\n",
              "reservation_status_date           86940\n",
              "dtype: int64"
            ]
          },
          "metadata": {
            "tags": []
          },
          "execution_count": 46
        }
      ]
    },
    {
      "cell_type": "markdown",
      "metadata": {
        "id": "k2s8Z1uTD0Yn"
      },
      "source": [
        "Observation from the given **86940** values using describe"
      ]
    },
    {
      "cell_type": "code",
      "metadata": {
        "colab": {
          "base_uri": "https://localhost:8080/",
          "height": 317
        },
        "id": "A7B9lU3owcil",
        "outputId": "042814f9-951f-4eb8-d37f-f1e23c9f3d98"
      },
      "source": [
        "df.describe()"
      ],
      "execution_count": 47,
      "outputs": [
        {
          "output_type": "execute_result",
          "data": {
            "text/html": [
              "<div>\n",
              "<style scoped>\n",
              "    .dataframe tbody tr th:only-of-type {\n",
              "        vertical-align: middle;\n",
              "    }\n",
              "\n",
              "    .dataframe tbody tr th {\n",
              "        vertical-align: top;\n",
              "    }\n",
              "\n",
              "    .dataframe thead th {\n",
              "        text-align: right;\n",
              "    }\n",
              "</style>\n",
              "<table border=\"1\" class=\"dataframe\">\n",
              "  <thead>\n",
              "    <tr style=\"text-align: right;\">\n",
              "      <th></th>\n",
              "      <th>is_canceled</th>\n",
              "      <th>lead_time</th>\n",
              "      <th>arrival_date_year</th>\n",
              "      <th>arrival_date_week_number</th>\n",
              "      <th>arrival_date_day_of_month</th>\n",
              "      <th>stays_in_weekend_nights</th>\n",
              "      <th>stays_in_week_nights</th>\n",
              "      <th>adults</th>\n",
              "      <th>children</th>\n",
              "      <th>babies</th>\n",
              "      <th>is_repeated_guest</th>\n",
              "      <th>previous_cancellations</th>\n",
              "      <th>previous_bookings_not_canceled</th>\n",
              "      <th>booking_changes</th>\n",
              "      <th>days_in_waiting_list</th>\n",
              "      <th>adr</th>\n",
              "      <th>required_car_parking_spaces</th>\n",
              "      <th>total_of_special_requests</th>\n",
              "    </tr>\n",
              "  </thead>\n",
              "  <tbody>\n",
              "    <tr>\n",
              "      <th>count</th>\n",
              "      <td>86940.000000</td>\n",
              "      <td>86940.000000</td>\n",
              "      <td>86940.000000</td>\n",
              "      <td>86940.000000</td>\n",
              "      <td>86940.000000</td>\n",
              "      <td>86940.000000</td>\n",
              "      <td>86940.000000</td>\n",
              "      <td>86940.000000</td>\n",
              "      <td>86940.000000</td>\n",
              "      <td>86940.000000</td>\n",
              "      <td>86940.000000</td>\n",
              "      <td>86940.000000</td>\n",
              "      <td>86940.000000</td>\n",
              "      <td>86940.000000</td>\n",
              "      <td>86940.000000</td>\n",
              "      <td>86940.000000</td>\n",
              "      <td>86940.000000</td>\n",
              "      <td>86940.000000</td>\n",
              "    </tr>\n",
              "    <tr>\n",
              "      <th>mean</th>\n",
              "      <td>0.275903</td>\n",
              "      <td>80.193375</td>\n",
              "      <td>2016.211824</td>\n",
              "      <td>26.841477</td>\n",
              "      <td>15.818024</td>\n",
              "      <td>1.007396</td>\n",
              "      <td>2.628744</td>\n",
              "      <td>1.878525</td>\n",
              "      <td>0.139211</td>\n",
              "      <td>0.010835</td>\n",
              "      <td>0.039234</td>\n",
              "      <td>0.030228</td>\n",
              "      <td>0.176708</td>\n",
              "      <td>0.271854</td>\n",
              "      <td>0.753497</td>\n",
              "      <td>106.574804</td>\n",
              "      <td>0.083448</td>\n",
              "      <td>0.699459</td>\n",
              "    </tr>\n",
              "    <tr>\n",
              "      <th>std</th>\n",
              "      <td>0.446971</td>\n",
              "      <td>86.100147</td>\n",
              "      <td>0.686016</td>\n",
              "      <td>13.654505</td>\n",
              "      <td>8.834469</td>\n",
              "      <td>1.028763</td>\n",
              "      <td>2.043753</td>\n",
              "      <td>0.625860</td>\n",
              "      <td>0.456786</td>\n",
              "      <td>0.113592</td>\n",
              "      <td>0.194152</td>\n",
              "      <td>0.369574</td>\n",
              "      <td>1.717885</td>\n",
              "      <td>0.728090</td>\n",
              "      <td>10.041816</td>\n",
              "      <td>54.957439</td>\n",
              "      <td>0.280402</td>\n",
              "      <td>0.831840</td>\n",
              "    </tr>\n",
              "    <tr>\n",
              "      <th>min</th>\n",
              "      <td>0.000000</td>\n",
              "      <td>0.000000</td>\n",
              "      <td>2015.000000</td>\n",
              "      <td>1.000000</td>\n",
              "      <td>1.000000</td>\n",
              "      <td>0.000000</td>\n",
              "      <td>0.000000</td>\n",
              "      <td>0.000000</td>\n",
              "      <td>0.000000</td>\n",
              "      <td>0.000000</td>\n",
              "      <td>0.000000</td>\n",
              "      <td>0.000000</td>\n",
              "      <td>0.000000</td>\n",
              "      <td>0.000000</td>\n",
              "      <td>0.000000</td>\n",
              "      <td>-6.380000</td>\n",
              "      <td>0.000000</td>\n",
              "      <td>0.000000</td>\n",
              "    </tr>\n",
              "    <tr>\n",
              "      <th>25%</th>\n",
              "      <td>0.000000</td>\n",
              "      <td>12.000000</td>\n",
              "      <td>2016.000000</td>\n",
              "      <td>16.000000</td>\n",
              "      <td>8.000000</td>\n",
              "      <td>0.000000</td>\n",
              "      <td>1.000000</td>\n",
              "      <td>2.000000</td>\n",
              "      <td>0.000000</td>\n",
              "      <td>0.000000</td>\n",
              "      <td>0.000000</td>\n",
              "      <td>0.000000</td>\n",
              "      <td>0.000000</td>\n",
              "      <td>0.000000</td>\n",
              "      <td>0.000000</td>\n",
              "      <td>72.250000</td>\n",
              "      <td>0.000000</td>\n",
              "      <td>0.000000</td>\n",
              "    </tr>\n",
              "    <tr>\n",
              "      <th>50%</th>\n",
              "      <td>0.000000</td>\n",
              "      <td>50.000000</td>\n",
              "      <td>2016.000000</td>\n",
              "      <td>27.000000</td>\n",
              "      <td>16.000000</td>\n",
              "      <td>1.000000</td>\n",
              "      <td>2.000000</td>\n",
              "      <td>2.000000</td>\n",
              "      <td>0.000000</td>\n",
              "      <td>0.000000</td>\n",
              "      <td>0.000000</td>\n",
              "      <td>0.000000</td>\n",
              "      <td>0.000000</td>\n",
              "      <td>0.000000</td>\n",
              "      <td>0.000000</td>\n",
              "      <td>98.400000</td>\n",
              "      <td>0.000000</td>\n",
              "      <td>0.000000</td>\n",
              "    </tr>\n",
              "    <tr>\n",
              "      <th>75%</th>\n",
              "      <td>1.000000</td>\n",
              "      <td>125.000000</td>\n",
              "      <td>2017.000000</td>\n",
              "      <td>37.000000</td>\n",
              "      <td>23.000000</td>\n",
              "      <td>2.000000</td>\n",
              "      <td>4.000000</td>\n",
              "      <td>2.000000</td>\n",
              "      <td>0.000000</td>\n",
              "      <td>0.000000</td>\n",
              "      <td>0.000000</td>\n",
              "      <td>0.000000</td>\n",
              "      <td>0.000000</td>\n",
              "      <td>0.000000</td>\n",
              "      <td>0.000000</td>\n",
              "      <td>134.100000</td>\n",
              "      <td>0.000000</td>\n",
              "      <td>1.000000</td>\n",
              "    </tr>\n",
              "    <tr>\n",
              "      <th>max</th>\n",
              "      <td>1.000000</td>\n",
              "      <td>737.000000</td>\n",
              "      <td>2017.000000</td>\n",
              "      <td>53.000000</td>\n",
              "      <td>31.000000</td>\n",
              "      <td>16.000000</td>\n",
              "      <td>41.000000</td>\n",
              "      <td>55.000000</td>\n",
              "      <td>10.000000</td>\n",
              "      <td>10.000000</td>\n",
              "      <td>1.000000</td>\n",
              "      <td>26.000000</td>\n",
              "      <td>72.000000</td>\n",
              "      <td>21.000000</td>\n",
              "      <td>391.000000</td>\n",
              "      <td>5400.000000</td>\n",
              "      <td>8.000000</td>\n",
              "      <td>5.000000</td>\n",
              "    </tr>\n",
              "  </tbody>\n",
              "</table>\n",
              "</div>"
            ],
            "text/plain": [
              "        is_canceled  ...  total_of_special_requests\n",
              "count  86940.000000  ...               86940.000000\n",
              "mean       0.275903  ...                   0.699459\n",
              "std        0.446971  ...                   0.831840\n",
              "min        0.000000  ...                   0.000000\n",
              "25%        0.000000  ...                   0.000000\n",
              "50%        0.000000  ...                   0.000000\n",
              "75%        1.000000  ...                   1.000000\n",
              "max        1.000000  ...                   5.000000\n",
              "\n",
              "[8 rows x 18 columns]"
            ]
          },
          "metadata": {
            "tags": []
          },
          "execution_count": 47
        }
      ]
    },
    {
      "cell_type": "markdown",
      "metadata": {
        "id": "mfAy3vCwEQTh"
      },
      "source": [
        "#Quick observation \n",
        "\n",
        "\n",
        "*   27.4 % of the people have cancelled their booking as per the dataset.\n",
        "*   Avg. lead time is 80 days.\n",
        "*   Only 4% of the guests are repeated.\n",
        "*   Each booking has on an average 1.8 adults and 0.13 children.\n",
        "\n",
        "\n",
        "\n",
        "\n",
        "\n",
        "\n",
        "  \n",
        "\n"
      ]
    },
    {
      "cell_type": "markdown",
      "metadata": {
        "id": "xRtcXcVMKg1q"
      },
      "source": [
        "#DATA VISUALIZATION"
      ]
    },
    {
      "cell_type": "markdown",
      "metadata": {
        "id": "VSwNjA0pi_R7"
      },
      "source": [
        "After cleaning the data broadly classify the type of hotels we have in our data by the ploting a histogram"
      ]
    },
    {
      "cell_type": "code",
      "metadata": {
        "colab": {
          "base_uri": "https://localhost:8080/",
          "height": 497
        },
        "id": "FzC73ysjjM9k",
        "outputId": "2318293f-06ed-4448-8b74-13eb82dd5aed"
      },
      "source": [
        "fig, ax = plt.subplots(figsize=(14,8))\n",
        "ax.hist(df['hotel'])\n",
        "ax.set_xlabel('Type of Hotel')\n",
        "ax.set_ylabel('Number')\n",
        "plt.show()"
      ],
      "execution_count": 48,
      "outputs": [
        {
          "output_type": "display_data",
          "data": {
            "image/png": "[encoded data removed]",
            "text/plain": [
              "<Figure size 1008x576 with 1 Axes>"
            ]
          },
          "metadata": {
            "tags": [],
            "needs_background": "light"
          }
        }
      ]
    },
    {
      "cell_type": "markdown",
      "metadata": {
        "id": "uqYzVLXp4ARm"
      },
      "source": [
        "Scatter plot between Type of market segment and waiting list for **the** booking"
      ]
    },
    {
      "cell_type": "code",
      "metadata": {
        "colab": {
          "base_uri": "https://localhost:8080/",
          "height": 606
        },
        "id": "3q4Uo_0r4AZU",
        "outputId": "457cebcf-a0bd-4ab6-f9e5-4e099140e79d"
      },
      "source": [
        "fig,  ax =plt.subplots(figsize=(16,10))\n",
        "\n",
        "ax.scatter(df['market_segment'],df['days_in_waiting_list'])\n",
        "\n",
        "ax.set_xlabel('market segment')\n",
        "ax.set_ylabel('days on waiting list')\n",
        "plt.show()"
      ],
      "execution_count": 49,
      "outputs": [
        {
          "output_type": "display_data",
          "data": {
            "image/png": "[encoded data removed]",
            "text/plain": [
              "<Figure size 1152x720 with 1 Axes>"
            ]
          },
          "metadata": {
            "tags": [],
            "needs_background": "light"
          }
        }
      ]
    },
    {
      "cell_type": "markdown",
      "metadata": {
        "id": "CgS1DyVHQcsE"
      },
      "source": [
        "Plot between Distributing Channel and days on the waiting "
      ]
    },
    {
      "cell_type": "code",
      "metadata": {
        "colab": {
          "base_uri": "https://localhost:8080/",
          "height": 606
        },
        "id": "c0E8Oh09PysZ",
        "outputId": "b29e6f48-01cf-4ad9-b0f8-229ddd8613c1"
      },
      "source": [
        "fig,  ax =plt.subplots(figsize=(16,10))\n",
        "\n",
        "ax.scatter(df['distribution_channel'],df['days_in_waiting_list'])\n",
        "\n",
        "ax.set_xlabel('distribution_channel')\n",
        "ax.set_ylabel('days on waiting list')\n",
        "plt.show()"
      ],
      "execution_count": 50,
      "outputs": [
        {
          "output_type": "display_data",
          "data": {
            "image/png": "[encoded data removed]",
            "text/plain": [
              "<Figure size 1152x720 with 1 Axes>"
            ]
          },
          "metadata": {
            "tags": [],
            "needs_background": "light"
          }
        }
      ]
    },
    {
      "cell_type": "markdown",
      "metadata": {
        "id": "6movQODq0c7q"
      },
      "source": [
        "Display the number of kids in both hotels"
      ]
    },
    {
      "cell_type": "code",
      "metadata": {
        "colab": {
          "base_uri": "https://localhost:8080/",
          "height": 521
        },
        "id": "H4S2JuBK0dQt",
        "outputId": "17d33b0c-b0f6-4d68-b9e6-ea4249fa293c"
      },
      "source": [
        "# Create a new dataframe to display hotel, adults, children, and babies only.\n",
        "df1 = df[['hotel', 'adults', 'children', 'babies']]\n",
        "df1['kids'] = df1['children'] + df1['babies']\n",
        "df1"
      ],
      "execution_count": 51,
      "outputs": [
        {
          "output_type": "stream",
          "text": [
            "/usr/local/lib/python3.7/dist-packages/ipykernel_launcher.py:3: SettingWithCopyWarning: \n",
            "A value is trying to be set on a copy of a slice from a DataFrame.\n",
            "Try using .loc[row_indexer,col_indexer] = value instead\n",
            "\n",
            "See the caveats in the documentation: https://pandas.pydata.org/pandas-docs/stable/user_guide/indexing.html#returning-a-view-versus-a-copy\n",
            "  This is separate from the ipykernel package so we can avoid doing imports until\n"
          ],
          "name": "stderr"
        },
        {
          "output_type": "execute_result",
          "data": {
            "text/html": [
              "<div>\n",
              "<style scoped>\n",
              "    .dataframe tbody tr th:only-of-type {\n",
              "        vertical-align: middle;\n",
              "    }\n",
              "\n",
              "    .dataframe tbody tr th {\n",
              "        vertical-align: top;\n",
              "    }\n",
              "\n",
              "    .dataframe thead th {\n",
              "        text-align: right;\n",
              "    }\n",
              "</style>\n",
              "<table border=\"1\" class=\"dataframe\">\n",
              "  <thead>\n",
              "    <tr style=\"text-align: right;\">\n",
              "      <th></th>\n",
              "      <th>hotel</th>\n",
              "      <th>adults</th>\n",
              "      <th>children</th>\n",
              "      <th>babies</th>\n",
              "      <th>kids</th>\n",
              "    </tr>\n",
              "  </thead>\n",
              "  <tbody>\n",
              "    <tr>\n",
              "      <th>0</th>\n",
              "      <td>Resort Hotel</td>\n",
              "      <td>2</td>\n",
              "      <td>0.0</td>\n",
              "      <td>0</td>\n",
              "      <td>0.0</td>\n",
              "    </tr>\n",
              "    <tr>\n",
              "      <th>1</th>\n",
              "      <td>Resort Hotel</td>\n",
              "      <td>2</td>\n",
              "      <td>0.0</td>\n",
              "      <td>0</td>\n",
              "      <td>0.0</td>\n",
              "    </tr>\n",
              "    <tr>\n",
              "      <th>2</th>\n",
              "      <td>Resort Hotel</td>\n",
              "      <td>1</td>\n",
              "      <td>0.0</td>\n",
              "      <td>0</td>\n",
              "      <td>0.0</td>\n",
              "    </tr>\n",
              "    <tr>\n",
              "      <th>3</th>\n",
              "      <td>Resort Hotel</td>\n",
              "      <td>1</td>\n",
              "      <td>0.0</td>\n",
              "      <td>0</td>\n",
              "      <td>0.0</td>\n",
              "    </tr>\n",
              "    <tr>\n",
              "      <th>4</th>\n",
              "      <td>Resort Hotel</td>\n",
              "      <td>2</td>\n",
              "      <td>0.0</td>\n",
              "      <td>0</td>\n",
              "      <td>0.0</td>\n",
              "    </tr>\n",
              "    <tr>\n",
              "      <th>...</th>\n",
              "      <td>...</td>\n",
              "      <td>...</td>\n",
              "      <td>...</td>\n",
              "      <td>...</td>\n",
              "      <td>...</td>\n",
              "    </tr>\n",
              "    <tr>\n",
              "      <th>119385</th>\n",
              "      <td>City Hotel</td>\n",
              "      <td>2</td>\n",
              "      <td>0.0</td>\n",
              "      <td>0</td>\n",
              "      <td>0.0</td>\n",
              "    </tr>\n",
              "    <tr>\n",
              "      <th>119386</th>\n",
              "      <td>City Hotel</td>\n",
              "      <td>3</td>\n",
              "      <td>0.0</td>\n",
              "      <td>0</td>\n",
              "      <td>0.0</td>\n",
              "    </tr>\n",
              "    <tr>\n",
              "      <th>119387</th>\n",
              "      <td>City Hotel</td>\n",
              "      <td>2</td>\n",
              "      <td>0.0</td>\n",
              "      <td>0</td>\n",
              "      <td>0.0</td>\n",
              "    </tr>\n",
              "    <tr>\n",
              "      <th>119388</th>\n",
              "      <td>City Hotel</td>\n",
              "      <td>2</td>\n",
              "      <td>0.0</td>\n",
              "      <td>0</td>\n",
              "      <td>0.0</td>\n",
              "    </tr>\n",
              "    <tr>\n",
              "      <th>119389</th>\n",
              "      <td>City Hotel</td>\n",
              "      <td>2</td>\n",
              "      <td>0.0</td>\n",
              "      <td>0</td>\n",
              "      <td>0.0</td>\n",
              "    </tr>\n",
              "  </tbody>\n",
              "</table>\n",
              "<p>86940 rows × 5 columns</p>\n",
              "</div>"
            ],
            "text/plain": [
              "               hotel  adults  children  babies  kids\n",
              "0       Resort Hotel       2       0.0       0   0.0\n",
              "1       Resort Hotel       2       0.0       0   0.0\n",
              "2       Resort Hotel       1       0.0       0   0.0\n",
              "3       Resort Hotel       1       0.0       0   0.0\n",
              "4       Resort Hotel       2       0.0       0   0.0\n",
              "...              ...     ...       ...     ...   ...\n",
              "119385    City Hotel       2       0.0       0   0.0\n",
              "119386    City Hotel       3       0.0       0   0.0\n",
              "119387    City Hotel       2       0.0       0   0.0\n",
              "119388    City Hotel       2       0.0       0   0.0\n",
              "119389    City Hotel       2       0.0       0   0.0\n",
              "\n",
              "[86940 rows x 5 columns]"
            ]
          },
          "metadata": {
            "tags": []
          },
          "execution_count": 51
        }
      ]
    },
    {
      "cell_type": "markdown",
      "metadata": {
        "id": "xQ5B-LUp1ajZ"
      },
      "source": [
        "# Display the number of kids in both hotels."
      ]
    },
    {
      "cell_type": "code",
      "metadata": {
        "colab": {
          "base_uri": "https://localhost:8080/",
          "height": 518
        },
        "id": "9w_dwlJt1pKJ",
        "outputId": "54107f2a-7d0d-448c-bab5-979bd5395743"
      },
      "source": [
        "plt.figure(figsize=(15, 8))\n",
        "sns.countplot(x='kids',hue='hotel', data=df1, palette='coolwarm')\n",
        "plt.title(\"Number of kids in both hotels\",fontweight=\"bold\", size=20)\n",
        "\n",
        "plt.show()"
      ],
      "execution_count": 52,
      "outputs": [
        {
          "output_type": "display_data",
          "data": {
            "image/png": "[encoded data removed]",
            "text/plain": [
              "<Figure size 1080x576 with 1 Axes>"
            ]
          },
          "metadata": {
            "tags": [],
            "needs_background": "light"
          }
        }
      ]
    },
    {
      "cell_type": "markdown",
      "metadata": {
        "id": "9be0_lXjcR0U"
      },
      "source": [
        "**Heatmap between type of Hotel and arrival month**"
      ]
    },
    {
      "cell_type": "code",
      "metadata": {
        "colab": {
          "base_uri": "https://localhost:8080/",
          "height": 296
        },
        "id": "TmC7IOJYcSAU",
        "outputId": "8107f2e2-c071-459c-d53a-fcbc528dcb42"
      },
      "source": [
        "sns.heatmap(pd.crosstab(df.arrival_date_month,df.hotel),cmap='coolwarm')"
      ],
      "execution_count": 53,
      "outputs": [
        {
          "output_type": "execute_result",
          "data": {
            "text/plain": [
              "<matplotlib.axes._subplots.AxesSubplot at 0x7f705cd37cd0>"
            ]
          },
          "metadata": {
            "tags": []
          },
          "execution_count": 53
        },
        {
          "output_type": "display_data",
          "data": {
            "image/png": "[encoded data removed]",
            "text/plain": [
              "<Figure size 432x288 with 2 Axes>"
            ]
          },
          "metadata": {
            "tags": [],
            "needs_background": "light"
          }
        }
      ]
    },
    {
      "cell_type": "markdown",
      "metadata": {
        "id": "65ysbjQi2nM2"
      },
      "source": [
        "Percentage of Cancellation by year"
      ]
    },
    {
      "cell_type": "code",
      "metadata": {
        "colab": {
          "base_uri": "https://localhost:8080/",
          "height": 548
        },
        "id": "kC-ZLfur2nkJ",
        "outputId": "c8f96a0d-8eb4-40cf-b959-c0ef626aa724"
      },
      "source": [
        "plt.figure(figsize=(30, 8))\n",
        "plt.subplot(1, 2, 1)\n",
        "\n",
        "sns.barplot(data = df, x= 'arrival_date_year', y = 'is_canceled',hue = 'hotel' )\n",
        "plt.title('cancellation percentage by year',fontweight=\"bold\", size=25)\n",
        "\n",
        "plt.xlabel('year',size=20)\n",
        "plt.ylabel('cancellation percentage',size=20)"
      ],
      "execution_count": 54,
      "outputs": [
        {
          "output_type": "execute_result",
          "data": {
            "text/plain": [
              "Text(0, 0.5, 'cancellation percentage')"
            ]
          },
          "metadata": {
            "tags": []
          },
          "execution_count": 54
        },
        {
          "output_type": "display_data",
          "data": {
            "image/png": "[encoded data removed]",
            "text/plain": [
              "<Figure size 2160x576 with 1 Axes>"
            ]
          },
          "metadata": {
            "tags": [],
            "needs_background": "light"
          }
        }
      ]
    },
    {
      "cell_type": "markdown",
      "metadata": {
        "id": "IHfHTuw0iXKA"
      },
      "source": [
        "Lets draw a plot to see the relation between cancellation between repeting costumer"
      ]
    },
    {
      "cell_type": "code",
      "metadata": {
        "colab": {
          "base_uri": "https://localhost:8080/",
          "height": 314
        },
        "id": "jZMgemcCh4Vy",
        "outputId": "43bc428e-2f96-4655-fbf5-49faf15a4473"
      },
      "source": [
        "df3=df.groupby(['is_canceled','is_repeated_guest']).size()\n",
        "\n",
        "df3.plot(kind='bar')"
      ],
      "execution_count": 55,
      "outputs": [
        {
          "output_type": "execute_result",
          "data": {
            "text/plain": [
              "<matplotlib.axes._subplots.AxesSubplot at 0x7f705cb87ad0>"
            ]
          },
          "metadata": {
            "tags": []
          },
          "execution_count": 55
        },
        {
          "output_type": "display_data",
          "data": {
            "image/png": "[encoded data removed]",
            "text/plain": [
              "<Figure size 432x288 with 1 Axes>"
            ]
          },
          "metadata": {
            "tags": [],
            "needs_background": "light"
          }
        }
      ]
    },
    {
      "cell_type": "markdown",
      "metadata": {
        "id": "KzkQh9wc3s-X"
      },
      "source": [
        "Plot between hotel and market segment\n",
        "\n"
      ]
    },
    {
      "cell_type": "code",
      "metadata": {
        "colab": {
          "base_uri": "https://localhost:8080/",
          "height": 402
        },
        "id": "irJsT5yIjBRW",
        "outputId": "52136774-c2db-4eea-de34-2f1986bee627"
      },
      "source": [
        "df4=df.groupby(['hotel','market_segment']).size()\n",
        "df4=df4.unstack()\n",
        "df4.plot(kind='bar',figsize=(10,5))"
      ],
      "execution_count": 56,
      "outputs": [
        {
          "output_type": "execute_result",
          "data": {
            "text/plain": [
              "<matplotlib.axes._subplots.AxesSubplot at 0x7f705cb01950>"
            ]
          },
          "metadata": {
            "tags": []
          },
          "execution_count": 56
        },
        {
          "output_type": "display_data",
          "data": {
            "image/png": "[encoded data removed]",
            "text/plain": [
              "<Figure size 720x360 with 1 Axes>"
            ]
          },
          "metadata": {
            "tags": [],
            "needs_background": "light"
          }
        }
      ]
    },
    {
      "cell_type": "markdown",
      "metadata": {
        "id": "D9QnRTDJ55MV"
      },
      "source": [
        "Plot between hotel and distribution channel\n",
        "\n"
      ]
    },
    {
      "cell_type": "code",
      "metadata": {
        "colab": {
          "base_uri": "https://localhost:8080/",
          "height": 402
        },
        "id": "hE_mK1ff254s",
        "outputId": "f0559a8f-79fc-412d-abaf-8a106d8db6f2"
      },
      "source": [
        "df5= df.groupby(['hotel','distribution_channel']).size()\n",
        "df5=df5.unstack()\n",
        "df5.plot(kind='bar',figsize=(10,5))"
      ],
      "execution_count": 57,
      "outputs": [
        {
          "output_type": "execute_result",
          "data": {
            "text/plain": [
              "<matplotlib.axes._subplots.AxesSubplot at 0x7f705ccce550>"
            ]
          },
          "metadata": {
            "tags": []
          },
          "execution_count": 57
        },
        {
          "output_type": "display_data",
          "data": {
            "image/png": "[encoded data removed]",
            "text/plain": [
              "<Figure size 720x360 with 1 Axes>"
            ]
          },
          "metadata": {
            "tags": [],
            "needs_background": "light"
          }
        }
      ]
    },
    {
      "cell_type": "markdown",
      "metadata": {
        "id": "mwmbZ90x6VOU"
      },
      "source": [
        "Plot between resevation status and market segment"
      ]
    },
    {
      "cell_type": "code",
      "metadata": {
        "colab": {
          "base_uri": "https://localhost:8080/",
          "height": 394
        },
        "id": "n9APmf_w6VeA",
        "outputId": "8574d134-e3c0-4b80-ebea-25580e34307d"
      },
      "source": [
        "df6=df.groupby(['reservation_status','market_segment']).size()\n",
        "df6=df6.unstack()\n",
        "df6.plot(kind='bar',figsize=(10,5))"
      ],
      "execution_count": 58,
      "outputs": [
        {
          "output_type": "execute_result",
          "data": {
            "text/plain": [
              "<matplotlib.axes._subplots.AxesSubplot at 0x7f705c9beb90>"
            ]
          },
          "metadata": {
            "tags": []
          },
          "execution_count": 58
        },
        {
          "output_type": "display_data",
          "data": {
            "image/png": "[encoded data removed]",
            "text/plain": [
              "<Figure size 720x360 with 1 Axes>"
            ]
          },
          "metadata": {
            "tags": [],
            "needs_background": "light"
          }
        }
      ]
    },
    {
      "cell_type": "markdown",
      "metadata": {
        "id": "u-HzFtBO8DeR"
      },
      "source": [
        "Let's now group the data based on month , to get some important insights"
      ]
    },
    {
      "cell_type": "code",
      "metadata": {
        "id": "on2Xf8ga8D8v"
      },
      "source": [
        "grp=df.groupby('arrival_date_month')\n",
        "\n",
        "p = grp['lead_time'].agg(np.mean)\n",
        "\n",
        "t = grp['days_in_waiting_list'].agg(np.sum)\n"
      ],
      "execution_count": 59,
      "outputs": []
    },
    {
      "cell_type": "markdown",
      "metadata": {
        "id": "WRcsxWOokfvQ"
      },
      "source": [
        "Let's check out relation between the days before which booking is done which is known as lead time and month of the year\n"
      ]
    },
    {
      "cell_type": "code",
      "metadata": {
        "colab": {
          "base_uri": "https://localhost:8080/",
          "height": 396
        },
        "id": "aIurQ0VDjxcF",
        "outputId": "19bd3984-9589-4bc8-98c2-f35afb738253"
      },
      "source": [
        "plt.figure(figsize=(16,5))\n",
        "plt.plot(p,'ro',color='r')\n",
        "plt.xticks(rotation=90)\n",
        "\n",
        "plt.title('Month of the year Vs Lead time',fontsize=15)\n",
        "plt.xlabel('Month of the year')\n",
        "plt.ylabel('Lead time')\n",
        "plt.show()"
      ],
      "execution_count": 60,
      "outputs": [
        {
          "output_type": "display_data",
          "data": {
            "image/png": "[encoded data removed]",
            "text/plain": [
              "<Figure size 1152x360 with 1 Axes>"
            ]
          },
          "metadata": {
            "tags": [],
            "needs_background": "light"
          }
        }
      ]
    },
    {
      "cell_type": "markdown",
      "metadata": {
        "id": "kd69emI9oH_M"
      },
      "source": [
        "Relation between Days in the waiting list with the month of the year"
      ]
    },
    {
      "cell_type": "code",
      "metadata": {
        "colab": {
          "base_uri": "https://localhost:8080/",
          "height": 396
        },
        "id": "sGs7TrZbll0H",
        "outputId": "90618764-e810-460c-cf51-47bed2eae6bf"
      },
      "source": [
        "plt.figure(figsize=(16,5))\n",
        "plt.plot(t,'ro',color='r')\n",
        "plt.xticks(rotation=90)\n",
        "\n",
        "plt.title('Month of the year Vs Days in the waiting list',fontsize=15)\n",
        "plt.xlabel('Month of the year')\n",
        "plt.ylabel('Days in the waiting list')\n",
        "plt.show()"
      ],
      "execution_count": 61,
      "outputs": [
        {
          "output_type": "display_data",
          "data": {
            "image/png": "[encoded data removed]",
            "text/plain": [
              "<Figure size 1152x360 with 1 Axes>"
            ]
          },
          "metadata": {
            "tags": [],
            "needs_background": "light"
          }
        }
      ]
    },
    {
      "cell_type": "markdown",
      "metadata": {
        "id": "Mclg482IpUti"
      },
      "source": [
        "**Heatmap - to show the relation between the variables**"
      ]
    },
    {
      "cell_type": "code",
      "metadata": {
        "colab": {
          "base_uri": "https://localhost:8080/",
          "height": 1000
        },
        "id": "yXfoIeepoPdO",
        "outputId": "31b60d3b-7719-4598-90b5-108d9b6feec2"
      },
      "source": [
        "plt.figure(figsize=(20,10))\n",
        "c=df.corr()\n",
        "sns.heatmap(c,cmap='coolwarm', annot=True)\n",
        "c"
      ],
      "execution_count": 62,
      "outputs": [
        {
          "output_type": "execute_result",
          "data": {
            "text/html": [
              "<div>\n",
              "<style scoped>\n",
              "    .dataframe tbody tr th:only-of-type {\n",
              "        vertical-align: middle;\n",
              "    }\n",
              "\n",
              "    .dataframe tbody tr th {\n",
              "        vertical-align: top;\n",
              "    }\n",
              "\n",
              "    .dataframe thead th {\n",
              "        text-align: right;\n",
              "    }\n",
              "</style>\n",
              "<table border=\"1\" class=\"dataframe\">\n",
              "  <thead>\n",
              "    <tr style=\"text-align: right;\">\n",
              "      <th></th>\n",
              "      <th>is_canceled</th>\n",
              "      <th>lead_time</th>\n",
              "      <th>arrival_date_year</th>\n",
              "      <th>arrival_date_week_number</th>\n",
              "      <th>arrival_date_day_of_month</th>\n",
              "      <th>stays_in_weekend_nights</th>\n",
              "      <th>stays_in_week_nights</th>\n",
              "      <th>adults</th>\n",
              "      <th>children</th>\n",
              "      <th>babies</th>\n",
              "      <th>is_repeated_guest</th>\n",
              "      <th>previous_cancellations</th>\n",
              "      <th>previous_bookings_not_canceled</th>\n",
              "      <th>booking_changes</th>\n",
              "      <th>days_in_waiting_list</th>\n",
              "      <th>adr</th>\n",
              "      <th>required_car_parking_spaces</th>\n",
              "      <th>total_of_special_requests</th>\n",
              "    </tr>\n",
              "  </thead>\n",
              "  <tbody>\n",
              "    <tr>\n",
              "      <th>is_canceled</th>\n",
              "      <td>1.000000</td>\n",
              "      <td>0.183730</td>\n",
              "      <td>0.087665</td>\n",
              "      <td>0.000864</td>\n",
              "      <td>0.005281</td>\n",
              "      <td>0.059599</td>\n",
              "      <td>0.082818</td>\n",
              "      <td>0.080295</td>\n",
              "      <td>0.067027</td>\n",
              "      <td>-0.020593</td>\n",
              "      <td>-0.090145</td>\n",
              "      <td>0.050965</td>\n",
              "      <td>-0.050553</td>\n",
              "      <td>-0.094050</td>\n",
              "      <td>0.004302</td>\n",
              "      <td>0.126675</td>\n",
              "      <td>-0.183704</td>\n",
              "      <td>-0.121794</td>\n",
              "    </tr>\n",
              "    <tr>\n",
              "      <th>lead_time</th>\n",
              "      <td>0.183730</td>\n",
              "      <td>1.000000</td>\n",
              "      <td>0.138786</td>\n",
              "      <td>0.100970</td>\n",
              "      <td>0.009865</td>\n",
              "      <td>0.233679</td>\n",
              "      <td>0.309916</td>\n",
              "      <td>0.137500</td>\n",
              "      <td>0.027704</td>\n",
              "      <td>-0.003954</td>\n",
              "      <td>-0.148009</td>\n",
              "      <td>0.005517</td>\n",
              "      <td>-0.076399</td>\n",
              "      <td>0.076764</td>\n",
              "      <td>0.132163</td>\n",
              "      <td>0.019758</td>\n",
              "      <td>-0.085753</td>\n",
              "      <td>0.033038</td>\n",
              "    </tr>\n",
              "    <tr>\n",
              "      <th>arrival_date_year</th>\n",
              "      <td>0.087665</td>\n",
              "      <td>0.138786</td>\n",
              "      <td>1.000000</td>\n",
              "      <td>-0.514123</td>\n",
              "      <td>-0.010282</td>\n",
              "      <td>0.005000</td>\n",
              "      <td>0.003930</td>\n",
              "      <td>0.037455</td>\n",
              "      <td>0.040791</td>\n",
              "      <td>-0.023401</td>\n",
              "      <td>0.024048</td>\n",
              "      <td>-0.053973</td>\n",
              "      <td>0.028195</td>\n",
              "      <td>0.008786</td>\n",
              "      <td>-0.028184</td>\n",
              "      <td>0.175988</td>\n",
              "      <td>-0.038615</td>\n",
              "      <td>0.064415</td>\n",
              "    </tr>\n",
              "    <tr>\n",
              "      <th>arrival_date_week_number</th>\n",
              "      <td>0.000864</td>\n",
              "      <td>0.100970</td>\n",
              "      <td>-0.514123</td>\n",
              "      <td>1.000000</td>\n",
              "      <td>0.093640</td>\n",
              "      <td>0.026096</td>\n",
              "      <td>0.027368</td>\n",
              "      <td>0.023778</td>\n",
              "      <td>0.013417</td>\n",
              "      <td>0.013848</td>\n",
              "      <td>-0.037271</td>\n",
              "      <td>0.006634</td>\n",
              "      <td>-0.020757</td>\n",
              "      <td>0.011464</td>\n",
              "      <td>0.013883</td>\n",
              "      <td>0.097718</td>\n",
              "      <td>0.008637</td>\n",
              "      <td>0.046125</td>\n",
              "    </tr>\n",
              "    <tr>\n",
              "      <th>arrival_date_day_of_month</th>\n",
              "      <td>0.005281</td>\n",
              "      <td>0.009865</td>\n",
              "      <td>-0.010282</td>\n",
              "      <td>0.093640</td>\n",
              "      <td>1.000000</td>\n",
              "      <td>-0.017278</td>\n",
              "      <td>-0.027566</td>\n",
              "      <td>-0.001358</td>\n",
              "      <td>0.015846</td>\n",
              "      <td>-0.000752</td>\n",
              "      <td>-0.004401</td>\n",
              "      <td>-0.008687</td>\n",
              "      <td>0.000661</td>\n",
              "      <td>0.006498</td>\n",
              "      <td>0.006585</td>\n",
              "      <td>0.022246</td>\n",
              "      <td>0.008679</td>\n",
              "      <td>-0.001587</td>\n",
              "    </tr>\n",
              "    <tr>\n",
              "      <th>stays_in_weekend_nights</th>\n",
              "      <td>0.059599</td>\n",
              "      <td>0.233679</td>\n",
              "      <td>0.005000</td>\n",
              "      <td>0.026096</td>\n",
              "      <td>-0.017278</td>\n",
              "      <td>1.000000</td>\n",
              "      <td>0.551159</td>\n",
              "      <td>0.086270</td>\n",
              "      <td>0.027842</td>\n",
              "      <td>0.013488</td>\n",
              "      <td>-0.107932</td>\n",
              "      <td>-0.020676</td>\n",
              "      <td>-0.054141</td>\n",
              "      <td>0.049066</td>\n",
              "      <td>-0.032017</td>\n",
              "      <td>0.036015</td>\n",
              "      <td>-0.042651</td>\n",
              "      <td>0.030461</td>\n",
              "    </tr>\n",
              "    <tr>\n",
              "      <th>stays_in_week_nights</th>\n",
              "      <td>0.082818</td>\n",
              "      <td>0.309916</td>\n",
              "      <td>0.003930</td>\n",
              "      <td>0.027368</td>\n",
              "      <td>-0.027566</td>\n",
              "      <td>0.551159</td>\n",
              "      <td>1.000000</td>\n",
              "      <td>0.094405</td>\n",
              "      <td>0.030252</td>\n",
              "      <td>0.015891</td>\n",
              "      <td>-0.114665</td>\n",
              "      <td>-0.018904</td>\n",
              "      <td>-0.056928</td>\n",
              "      <td>0.084199</td>\n",
              "      <td>0.001796</td>\n",
              "      <td>0.050935</td>\n",
              "      <td>-0.043987</td>\n",
              "      <td>0.035449</td>\n",
              "    </tr>\n",
              "    <tr>\n",
              "      <th>adults</th>\n",
              "      <td>0.080295</td>\n",
              "      <td>0.137500</td>\n",
              "      <td>0.037455</td>\n",
              "      <td>0.023778</td>\n",
              "      <td>-0.001358</td>\n",
              "      <td>0.086270</td>\n",
              "      <td>0.094405</td>\n",
              "      <td>1.000000</td>\n",
              "      <td>0.022419</td>\n",
              "      <td>0.016249</td>\n",
              "      <td>-0.173194</td>\n",
              "      <td>-0.042158</td>\n",
              "      <td>-0.117754</td>\n",
              "      <td>-0.049145</td>\n",
              "      <td>-0.016125</td>\n",
              "      <td>0.245287</td>\n",
              "      <td>0.009261</td>\n",
              "      <td>0.110777</td>\n",
              "    </tr>\n",
              "    <tr>\n",
              "      <th>children</th>\n",
              "      <td>0.067027</td>\n",
              "      <td>0.027704</td>\n",
              "      <td>0.040791</td>\n",
              "      <td>0.013417</td>\n",
              "      <td>0.015846</td>\n",
              "      <td>0.027842</td>\n",
              "      <td>0.030252</td>\n",
              "      <td>0.022419</td>\n",
              "      <td>1.000000</td>\n",
              "      <td>0.017482</td>\n",
              "      <td>-0.045893</td>\n",
              "      <td>-0.019136</td>\n",
              "      <td>-0.028476</td>\n",
              "      <td>0.030910</td>\n",
              "      <td>-0.020526</td>\n",
              "      <td>0.326293</td>\n",
              "      <td>0.037181</td>\n",
              "      <td>0.044391</td>\n",
              "    </tr>\n",
              "    <tr>\n",
              "      <th>babies</th>\n",
              "      <td>-0.020593</td>\n",
              "      <td>-0.003954</td>\n",
              "      <td>-0.023401</td>\n",
              "      <td>0.013848</td>\n",
              "      <td>-0.000752</td>\n",
              "      <td>0.013488</td>\n",
              "      <td>0.015891</td>\n",
              "      <td>0.016249</td>\n",
              "      <td>0.017482</td>\n",
              "      <td>1.000000</td>\n",
              "      <td>-0.013017</td>\n",
              "      <td>-0.005336</td>\n",
              "      <td>-0.008869</td>\n",
              "      <td>0.080791</td>\n",
              "      <td>-0.006865</td>\n",
              "      <td>0.022694</td>\n",
              "      <td>0.030476</td>\n",
              "      <td>0.094475</td>\n",
              "    </tr>\n",
              "    <tr>\n",
              "      <th>is_repeated_guest</th>\n",
              "      <td>-0.090145</td>\n",
              "      <td>-0.148009</td>\n",
              "      <td>0.024048</td>\n",
              "      <td>-0.037271</td>\n",
              "      <td>-0.004401</td>\n",
              "      <td>-0.107932</td>\n",
              "      <td>-0.114665</td>\n",
              "      <td>-0.173194</td>\n",
              "      <td>-0.045893</td>\n",
              "      <td>-0.013017</td>\n",
              "      <td>1.000000</td>\n",
              "      <td>0.206934</td>\n",
              "      <td>0.447195</td>\n",
              "      <td>0.006079</td>\n",
              "      <td>-0.012886</td>\n",
              "      <td>-0.154517</td>\n",
              "      <td>0.072757</td>\n",
              "      <td>-0.001343</td>\n",
              "    </tr>\n",
              "    <tr>\n",
              "      <th>previous_cancellations</th>\n",
              "      <td>0.050965</td>\n",
              "      <td>0.005517</td>\n",
              "      <td>-0.053973</td>\n",
              "      <td>0.006634</td>\n",
              "      <td>-0.008687</td>\n",
              "      <td>-0.020676</td>\n",
              "      <td>-0.018904</td>\n",
              "      <td>-0.042158</td>\n",
              "      <td>-0.019136</td>\n",
              "      <td>-0.005336</td>\n",
              "      <td>0.206934</td>\n",
              "      <td>1.000000</td>\n",
              "      <td>0.395889</td>\n",
              "      <td>-0.010491</td>\n",
              "      <td>0.003725</td>\n",
              "      <td>-0.050226</td>\n",
              "      <td>-0.003474</td>\n",
              "      <td>0.001602</td>\n",
              "    </tr>\n",
              "    <tr>\n",
              "      <th>previous_bookings_not_canceled</th>\n",
              "      <td>-0.050553</td>\n",
              "      <td>-0.076399</td>\n",
              "      <td>0.028195</td>\n",
              "      <td>-0.020757</td>\n",
              "      <td>0.000661</td>\n",
              "      <td>-0.054141</td>\n",
              "      <td>-0.056928</td>\n",
              "      <td>-0.117754</td>\n",
              "      <td>-0.028476</td>\n",
              "      <td>-0.008869</td>\n",
              "      <td>0.447195</td>\n",
              "      <td>0.395889</td>\n",
              "      <td>1.000000</td>\n",
              "      <td>0.006028</td>\n",
              "      <td>-0.006054</td>\n",
              "      <td>-0.082886</td>\n",
              "      <td>0.040426</td>\n",
              "      <td>0.027337</td>\n",
              "    </tr>\n",
              "    <tr>\n",
              "      <th>booking_changes</th>\n",
              "      <td>-0.094050</td>\n",
              "      <td>0.076764</td>\n",
              "      <td>0.008786</td>\n",
              "      <td>0.011464</td>\n",
              "      <td>0.006498</td>\n",
              "      <td>0.049066</td>\n",
              "      <td>0.084199</td>\n",
              "      <td>-0.049145</td>\n",
              "      <td>0.030910</td>\n",
              "      <td>0.080791</td>\n",
              "      <td>0.006079</td>\n",
              "      <td>-0.010491</td>\n",
              "      <td>0.006028</td>\n",
              "      <td>1.000000</td>\n",
              "      <td>0.024214</td>\n",
              "      <td>0.001818</td>\n",
              "      <td>0.048886</td>\n",
              "      <td>0.015502</td>\n",
              "    </tr>\n",
              "    <tr>\n",
              "      <th>days_in_waiting_list</th>\n",
              "      <td>0.004302</td>\n",
              "      <td>0.132163</td>\n",
              "      <td>-0.028184</td>\n",
              "      <td>0.013883</td>\n",
              "      <td>0.006585</td>\n",
              "      <td>-0.032017</td>\n",
              "      <td>0.001796</td>\n",
              "      <td>-0.016125</td>\n",
              "      <td>-0.020526</td>\n",
              "      <td>-0.006865</td>\n",
              "      <td>-0.012886</td>\n",
              "      <td>0.003725</td>\n",
              "      <td>-0.006054</td>\n",
              "      <td>0.024214</td>\n",
              "      <td>1.000000</td>\n",
              "      <td>-0.033447</td>\n",
              "      <td>-0.015967</td>\n",
              "      <td>-0.049762</td>\n",
              "    </tr>\n",
              "    <tr>\n",
              "      <th>adr</th>\n",
              "      <td>0.126675</td>\n",
              "      <td>0.019758</td>\n",
              "      <td>0.175988</td>\n",
              "      <td>0.097718</td>\n",
              "      <td>0.022246</td>\n",
              "      <td>0.036015</td>\n",
              "      <td>0.050935</td>\n",
              "      <td>0.245287</td>\n",
              "      <td>0.326293</td>\n",
              "      <td>0.022694</td>\n",
              "      <td>-0.154517</td>\n",
              "      <td>-0.050226</td>\n",
              "      <td>-0.082886</td>\n",
              "      <td>0.001818</td>\n",
              "      <td>-0.033447</td>\n",
              "      <td>1.000000</td>\n",
              "      <td>0.040494</td>\n",
              "      <td>0.136300</td>\n",
              "    </tr>\n",
              "    <tr>\n",
              "      <th>required_car_parking_spaces</th>\n",
              "      <td>-0.183704</td>\n",
              "      <td>-0.085753</td>\n",
              "      <td>-0.038615</td>\n",
              "      <td>0.008637</td>\n",
              "      <td>0.008679</td>\n",
              "      <td>-0.042651</td>\n",
              "      <td>-0.043987</td>\n",
              "      <td>0.009261</td>\n",
              "      <td>0.037181</td>\n",
              "      <td>0.030476</td>\n",
              "      <td>0.072757</td>\n",
              "      <td>-0.003474</td>\n",
              "      <td>0.040426</td>\n",
              "      <td>0.048886</td>\n",
              "      <td>-0.015967</td>\n",
              "      <td>0.040494</td>\n",
              "      <td>1.000000</td>\n",
              "      <td>0.048595</td>\n",
              "    </tr>\n",
              "    <tr>\n",
              "      <th>total_of_special_requests</th>\n",
              "      <td>-0.121794</td>\n",
              "      <td>0.033038</td>\n",
              "      <td>0.064415</td>\n",
              "      <td>0.046125</td>\n",
              "      <td>-0.001587</td>\n",
              "      <td>0.030461</td>\n",
              "      <td>0.035449</td>\n",
              "      <td>0.110777</td>\n",
              "      <td>0.044391</td>\n",
              "      <td>0.094475</td>\n",
              "      <td>-0.001343</td>\n",
              "      <td>0.001602</td>\n",
              "      <td>0.027337</td>\n",
              "      <td>0.015502</td>\n",
              "      <td>-0.049762</td>\n",
              "      <td>0.136300</td>\n",
              "      <td>0.048595</td>\n",
              "      <td>1.000000</td>\n",
              "    </tr>\n",
              "  </tbody>\n",
              "</table>\n",
              "</div>"
            ],
            "text/plain": [
              "                                is_canceled  ...  total_of_special_requests\n",
              "is_canceled                        1.000000  ...                  -0.121794\n",
              "lead_time                          0.183730  ...                   0.033038\n",
              "arrival_date_year                  0.087665  ...                   0.064415\n",
              "arrival_date_week_number           0.000864  ...                   0.046125\n",
              "arrival_date_day_of_month          0.005281  ...                  -0.001587\n",
              "stays_in_weekend_nights            0.059599  ...                   0.030461\n",
              "stays_in_week_nights               0.082818  ...                   0.035449\n",
              "adults                             0.080295  ...                   0.110777\n",
              "children                           0.067027  ...                   0.044391\n",
              "babies                            -0.020593  ...                   0.094475\n",
              "is_repeated_guest                 -0.090145  ...                  -0.001343\n",
              "previous_cancellations             0.050965  ...                   0.001602\n",
              "previous_bookings_not_canceled    -0.050553  ...                   0.027337\n",
              "booking_changes                   -0.094050  ...                   0.015502\n",
              "days_in_waiting_list               0.004302  ...                  -0.049762\n",
              "adr                                0.126675  ...                   0.136300\n",
              "required_car_parking_spaces       -0.183704  ...                   0.048595\n",
              "total_of_special_requests         -0.121794  ...                   1.000000\n",
              "\n",
              "[18 rows x 18 columns]"
            ]
          },
          "metadata": {
            "tags": []
          },
          "execution_count": 62
        },
        {
          "output_type": "display_data",
          "data": {
            "image/png": "[encoded data removed]",
            "text/plain": [
              "<Figure size 1440x720 with 2 Axes>"
            ]
          },
          "metadata": {
            "tags": [],
            "needs_background": "light"
          }
        }
      ]
    },
    {
      "cell_type": "markdown",
      "metadata": {
        "id": "7j53kCL2DYbA"
      },
      "source": [
        "Thank You"
      ]
    }
  ]
}